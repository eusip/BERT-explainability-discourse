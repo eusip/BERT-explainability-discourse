{
 "cells": [
  {
   "cell_type": "code",
   "execution_count": 1,
   "metadata": {
    "scrolled": true
   },
   "outputs": [],
   "source": [
    "from tqdm import tqdm\n",
    "import re\n",
    "\n",
    "import pandas as pd \n",
    "import matplotlib.pyplot as plt\n",
    "import numpy as np\n",
    "\n",
    "from flair.data import Sentence\n",
    "from flair.models import SequenceTagger"
   ]
  },
  {
   "cell_type": "code",
   "execution_count": 2,
   "metadata": {},
   "outputs": [],
   "source": [
    "# supress matplotlib warning\n",
    "\n",
    "import warnings\n",
    "warnings.filterwarnings('ignore')"
   ]
  },
  {
   "cell_type": "markdown",
   "metadata": {},
   "source": [
    "## Data loading"
   ]
  },
  {
   "cell_type": "code",
   "execution_count": 3,
   "metadata": {
    "scrolled": true
   },
   "outputs": [
    {
     "name": "stdout",
     "output_type": "stream",
     "text": [
      "   RowID  Original Row information       Date     Party        Location  \\\n",
      "0      1                         1  6/26/2019  Democrat  Miami, Florida   \n",
      "1      2                         2  6/26/2019  Democrat  Miami, Florida   \n",
      "2      3                         3  6/26/2019  Democrat  Miami, Florida   \n",
      "3      4                         4  6/26/2019  Democrat  Miami, Florida   \n",
      "4      5                         5  6/26/2019  Democrat  Miami, Florida   \n",
      "\n",
      "   Speaker SpeakerInfo  Question    Topic  \\\n",
      "0     HOLT   Moderator       0.0  Opening   \n",
      "1  GUTHRIE   Moderator       0.0  Opening   \n",
      "2  GUTHRIE   Moderator       0.0  Opening   \n",
      "3     HOLT   Moderator       0.0  Opening   \n",
      "4  GUTHRIE   Moderator       0.0  Opening   \n",
      "\n",
      "                                   Discourse w/names  \\\n",
      "0  HOLT: Good evening, everyone. I’m Lester Holt,...   \n",
      "1  GUTHRIE: Hi, I’m Savannah Guthrie. And tonight...   \n",
      "2  GUTHRIE: We’ll be joined in our questioning ti...   \n",
      "3  HOLT: Voters are trying to nail down where the...   \n",
      "4          GUTHRIE: Well, now it’s time to find out.   \n",
      "\n",
      "                                 Discourse w/o names  \n",
      "0  Good evening, everyone. I’m Lester Holt, and w...  \n",
      "1  Hi, I’m Savannah Guthrie. And tonight, it’s ou...  \n",
      "2  We’ll be joined in our questioning time by our...  \n",
      "3  Voters are trying to nail down where the candi...  \n",
      "4                   Well, now it’s time to find out.  \n",
      "\n",
      " number of topics:  46\n",
      "\n",
      " debate topics:\n",
      "\n",
      " Opening\n",
      "\n",
      " Economy\n",
      "\n",
      " Klobuchar's rivals programs\n",
      "\n",
      " Top tax rate\n",
      "\n",
      " breaking up of tech companies\n",
      "\n",
      " Gender Pay gap\n",
      "\n",
      " Income Inequality\n",
      "\n",
      " Manufacturing Jobs\n",
      "\n",
      " Healthcare\n",
      "\n",
      " Abortion\n",
      "\n",
      " Opiod Crisis\n",
      "\n",
      " Undocumented Immigrants\n",
      "\n",
      " Iran Nuclear Deal\n",
      "\n",
      " Guns\n",
      "\n",
      " Supreme Court Nominees\n",
      "\n",
      " Mitch McConnell\n",
      "\n",
      " Climate Change\n",
      "\n",
      " LGBTQ\n",
      "\n",
      " Foreign Policy\n",
      "\n",
      " Biggest Geopolitical Threat\n",
      "\n",
      " Impeachment\n",
      "\n",
      " Closing Statements\n",
      "\n",
      " Opening statements\n",
      "\n",
      " Biden addresses income inequality\n",
      "\n",
      " Sen. Harris on whether candidates should explain how to pay for their proposals\n",
      "\n",
      " Candidates are asked about ‘socialism’\n",
      "\n",
      " Buttigieg on why he doesn’t support free college\n",
      "\n",
      " Rep. Swalwell and Biden on generational change, and Yang explains his economic plan\n",
      "\n",
      " Sen. Harris’ ‘food fight’ moment\n",
      "\n",
      " Candidates weigh in on healthcare\n",
      "\n",
      " Candidates on how they would address undocumented immigrants\n",
      "\n",
      " Yang and Mayor Buttigieg on concerns about China\n",
      "\n",
      " Chuck Todd and Rachel Maddow take over without major technical difficulties\n",
      "\n",
      " Mayor Buttigieg speaks out on civil rights and the shooting in his hometown\n",
      "\n",
      " Sen. Harris dramatically confronts Biden on his civil rights record\n",
      "\n",
      " Candidates comment on diversity\n",
      "\n",
      " Candidates on bridging the partisan divide and working with Mitch McConnell\n",
      "\n",
      " Candidates on abortion rights\n",
      "\n",
      " Candidates on climate\n",
      "\n",
      " On whether ‘partisan gridlock’ would disappear\n",
      "\n",
      " Marianne Williamson invokes John F. Kennedy\n",
      "\n",
      " Candidates on what their first issue would be if elected\n",
      "\n",
      " Candidates on gun control\n",
      "\n",
      " Candidates on the first relationship they would reset as president\n",
      "\n",
      " Biden on why Americans should trust his foreign policy judgment after he expressed regret for supporting the Iraq war\n",
      "\n",
      " Their closing statements\n"
     ]
    }
   ],
   "source": [
    "# import dataset\n",
    "\n",
    "FILES = {\n",
    "    \"DNC\": \"raw/2020 Debate Transcripts.csv\",\n",
    "    \"Presidential\": \"raw/Presidential_debate_USA_final_October_2020.csv\",\n",
    "    \"Vice Presidential\": \"raw/VP_debate_2020.csv\",\n",
    "}\n",
    "\n",
    "# preview first 5 records\n",
    "\n",
    "df = pd.read_csv(FILES[\"DNC\"], encoding='cp1252')\n",
    "df = df.replace('\\n',' ', regex=True)\n",
    "print(df.head())\n",
    "\n",
    "# explore debate topics\n",
    "\n",
    "topics = df['Topic'].unique()\n",
    "print('\\n number of topics: ', len(topics))\n",
    "\n",
    "print('\\n debate topics:')\n",
    "for topic in topics:\n",
    "    print('\\n', topic)"
   ]
  },
  {
   "cell_type": "code",
   "execution_count": 4,
   "metadata": {},
   "outputs": [
    {
     "data": {
      "image/png": "[encoded data removed]",
      "text/plain": [
       "<Figure size 360x1440 with 1 Axes>"
      ]
     },
     "metadata": {
      "needs_background": "light"
     },
     "output_type": "display_data"
    }
   ],
   "source": [
    "# topics by utterance frequency\n",
    "\n",
    "speaker_topic = df[['Speaker','Topic']]\n",
    "speaker_topic.groupby(['Topic']).count().sort_values(by='Speaker').plot(kind='barh', figsize=(5,20));"
   ]
  },
  {
   "cell_type": "code",
   "execution_count": 5,
   "metadata": {},
   "outputs": [
    {
     "name": "stdout",
     "output_type": "stream",
     "text": [
      "Missing 'Question' values? \n",
      "\n",
      "      RowID  Original Row information       Date     Party        Location  \\\n",
      "406    407                         3  6/27/2019  Democrat  Miami, Florida   \n",
      "407    408                         4  6/27/2019  Democrat  Miami, Florida   \n",
      "408    409                         5  6/27/2019  Democrat  Miami, Florida   \n",
      "409    410                         6  6/27/2019  Democrat  Miami, Florida   \n",
      "410    411                         7  6/27/2019  Democrat  Miami, Florida   \n",
      "411    412                         8  6/27/2019  Democrat  Miami, Florida   \n",
      "412    413                         9  6/27/2019  Democrat  Miami, Florida   \n",
      "413    414                        10  6/27/2019  Democrat  Miami, Florida   \n",
      "414    415                        11  6/27/2019  Democrat  Miami, Florida   \n",
      "415    416                        12  6/27/2019  Democrat  Miami, Florida   \n",
      "416    417                        13  6/27/2019  Democrat  Miami, Florida   \n",
      "417    418                        14  6/27/2019  Democrat  Miami, Florida   \n",
      "418    419                        15  6/27/2019  Democrat  Miami, Florida   \n",
      "\n",
      "         Speaker SpeakerInfo  Question                              Topic  \\\n",
      "406  DIAZ-BALART   Candidate       NaN                 Opening statements   \n",
      "407         HOLT   Moderator       NaN                 Opening statements   \n",
      "408      GUTHRIE   Moderator       NaN                 Opening statements   \n",
      "409      SANDERS   Candidate       NaN                 Opening statements   \n",
      "410      GUTHRIE   Moderator       NaN                 Opening statements   \n",
      "411      SANDERS   Candidate       NaN                 Opening statements   \n",
      "412      GUTHRIE   Moderator       NaN                 Opening statements   \n",
      "413       BENNET   Candidate       NaN                 Opening statements   \n",
      "414      GUTHRIE   Moderator       NaN                 Opening statements   \n",
      "415        BIDEN   Candidate       NaN                 Opening statements   \n",
      "416      GUTHRIE   Moderator       NaN  Biden addresses income inequality   \n",
      "417        BIDEN   Candidate       NaN  Biden addresses income inequality   \n",
      "418      GUTHRIE   Moderator       NaN  Biden addresses income inequality   \n",
      "\n",
      "                                     Discourse w/names  \\\n",
      "406  DIAZ-BALART: As a quick rules of the road befo...   \n",
      "407  HOLT: And because of the large field of candid...   \n",
      "408  GUTHRIE: And we love our audience but we would...   \n",
      "409  SANDERS: Well, you are quite right. We have a ...   \n",
      "410  GUTHRIE: Senator Sanders I will give you 10 se...   \n",
      "411  SANDERS: People who have healthcare under Medi...   \n",
      "412                        GUTHRIE: Thank you Senator.   \n",
      "413                           BENNET: Senator Sanders–   \n",
      "414  GUTHRIE: Senator–Senator Bennet we’re going to...   \n",
      "415                            BIDEN: I’d like to say–   \n",
      "416  GUTHRIE: Senator Biden promise everyone’s goin...   \n",
      "417  BIDEN: What I meant by that is look, Donald Tr...   \n",
      "418  GUTHRIE: Vice President Biden thank you. Senat...   \n",
      "\n",
      "                                   Discourse w/o names  \n",
      "406  As a quick rules of the road before we begin a...  \n",
      "407  And because of the large field of candidates n...  \n",
      "408  And we love our audience but we would like to ...  \n",
      "409  Well, you are quite right. We have a new visio...  \n",
      "410  Senator Sanders I will give you 10 seconds jus...  \n",
      "411  People who have healthcare under Medicare for ...  \n",
      "412                                 Thank you Senator.  \n",
      "413                                   Senator Sanders–  \n",
      "414  Senator–Senator Bennet we’re going to get to e...  \n",
      "415                                   I’d like to say–  \n",
      "416  Senator Biden promise everyone’s going to get ...  \n",
      "417  What I meant by that is look, Donald Trump thi...  \n",
      "418  Vice President Biden thank you. Senator Harris...   \n",
      "\n",
      "\n",
      "Missing 'Topic' values? \n",
      "\n",
      " Empty DataFrame\n",
      "Columns: [RowID, Original Row information, Date, Party, Location, Speaker, SpeakerInfo, Question, Topic, Discourse w/names, Discourse w/o names]\n",
      "Index: [] \n",
      "\n",
      "\n",
      "Missing 'SpeakerInfo' values? \n",
      "\n",
      " Empty DataFrame\n",
      "Columns: [RowID, Original Row information, Date, Party, Location, Speaker, SpeakerInfo, Question, Topic, Discourse w/names, Discourse w/o names]\n",
      "Index: []\n"
     ]
    }
   ],
   "source": [
    "# check missing values\n",
    "\n",
    "print(\"Missing 'Question' values? \\n\\n\", df.loc[df.Question.isnull()], \"\\n\\n\")\n",
    "print(\"Missing 'Topic' values? \\n\\n\", df.loc[df.Topic.isnull()], \"\\n\\n\")\n",
    "print(\"Missing 'SpeakerInfo' values? \\n\\n\", df.loc[df.SpeakerInfo.isnull()])"
   ]
  },
  {
   "cell_type": "code",
   "execution_count": 13,
   "metadata": {},
   "outputs": [
    {
     "name": "stdout",
     "output_type": "stream",
     "text": [
      "    RowID  Original Row information       Date     Party        Location  \\\n",
      "8       9                         9  6/26/2019  Democrat  Miami, Florida   \n",
      "41     42                        42  6/26/2019  Democrat  Miami, Florida   \n",
      "43     44                        44  6/26/2019  Democrat  Miami, Florida   \n",
      "45     46                        46  6/26/2019  Democrat  Miami, Florida   \n",
      "47     48                        48  6/26/2019  Democrat  Miami, Florida   \n",
      "\n",
      "        Speaker SpeakerInfo  Question               Topic  \\\n",
      "8   DIAZ-BALART   Moderator       0.0             Opening   \n",
      "41  DIAZ-BALART   Moderator       6.0   Income Inequality   \n",
      "43  DIAZ-BALART   Moderator       6.0   Income Inequality   \n",
      "45  DIAZ-BALART   Moderator       6.0   Income Inequality   \n",
      "47  DIAZ-BALART   Moderator       7.0  Manufacturing Jobs   \n",
      "\n",
      "                                    Discourse w/names  \\\n",
      "8   DIAZ-BALART: And some quick rules of the road....   \n",
      "41  DIAZ-BALART: Mayor De Blasio, good evening. Yo...   \n",
      "43    DIAZ-BALART: Congressman Delaney, do you agree?   \n",
      "45  DIAZ-BALART: Thank you. Governor Inslee, how w...   \n",
      "47  DIAZ-BALART: So, Congressman Ryan, President T...   \n",
      "\n",
      "                                  Discourse w/o names  \n",
      "8   And some quick rules of the road. Before we be...  \n",
      "41  Mayor De Blasio, good evening. You’re the mayo...  \n",
      "43                 Congressman Delaney, do you agree?  \n",
      "45  Thank you. Governor Inslee, how would you addr...  \n",
      "47  So, Congressman Ryan, President Trump, and you...  \n",
      "     RowID  Original Row information       Date     Party        Location  \\\n",
      "181    182                       182  6/26/2019  Democrat  Miami, Florida   \n",
      "183    184                       184  6/26/2019  Democrat  Miami, Florida   \n",
      "185    186                       186  6/26/2019  Democrat  Miami, Florida   \n",
      "190    191                       191  6/26/2019  Democrat  Miami, Florida   \n",
      "192    193                       193  6/26/2019  Democrat  Miami, Florida   \n",
      "\n",
      "    Speaker SpeakerInfo  Question Topic  \\\n",
      "181  MADDOW   Moderator      14.0  Guns   \n",
      "183  MADDOW   Moderator      14.0  Guns   \n",
      "185  MADDOW   Moderator      14.0  Guns   \n",
      "190  MADDOW   Moderator      14.0  Guns   \n",
      "192  MADDOW   Moderator      14.0  Guns   \n",
      "\n",
      "                                     Discourse w/names  \\\n",
      "181  MADDOW: All right. We’re going to start by rec...   \n",
      "183                                 MADDOW: Hi, Chuck.   \n",
      "185                                      MADDOW: Good.   \n",
      "190                   MADDOW: Control room, we’ve got.   \n",
      "192                          MADDOW: What’s happening?   \n",
      "\n",
      "                                   Discourse w/o names  \n",
      "181  All right. We’re going to start by recapping t...  \n",
      "183                                         Hi, Chuck.  \n",
      "185                                              Good.  \n",
      "190                           Control room, we’ve got.  \n",
      "192                                  What’s happening?  \n"
     ]
    }
   ],
   "source": [
    "# make obvious corrections\n",
    "# DIAZ-BALART is a moderator, not a candidate\n",
    "# MADDOW is a moderator, not a candidate\n",
    "#TODO: where df['Speaker'] == 'DE BLASIO' strip first 8 chars from ['Discourse w/o names']\n",
    "\n",
    "df.loc[df['Speaker'] == 'DIAZ-BALART', 'SpeakerInfo'] = 'Moderator'\n",
    "df.loc[df['Speaker'] == 'MADDOW', 'SpeakerInfo'] = 'Moderator'\n",
    "print(df.loc[df.Speaker.eq('DIAZ-BALART')].head())\n",
    "print(df.loc[df.Speaker.eq('MADDOW')].head())\n",
    "\n",
    "# df.loc[df['Speaker'] == 'De Blasio', 'Discourse w/o names'] = df.loc[df['Speaker'] == 'De Blasio', 'Discourse w/o names'].str[8:]\n",
    "# print(df.loc[df.Speaker.eq('DE BLASIO')].head())"
   ]
  },
  {
   "cell_type": "markdown",
   "metadata": {},
   "source": [
    "## Parsing of discourse into monlogues and dialogues"
   ]
  },
  {
   "cell_type": "code",
   "execution_count": 16,
   "metadata": {
    "scrolled": false
   },
   "outputs": [
    {
     "name": "stdout",
     "output_type": "stream",
     "text": [
      "\n",
      " number of monologues:  68\n",
      "\n",
      "\n",
      " number of dialogues:  751\n"
     ]
    }
   ],
   "source": [
    "# 'Opening', Marianne Williamson invokes John F. Kennedy, Chuck Todd and Rachel Maddow take over without major technical difficulties --> skip\n",
    "# 'Closing Statements', 'Their closing statements' excluding SpeakerInfo == 'moderator' --> monologues\n",
    "# 'Biggest Geopolitical Threat', 'Candidates on what their first issue would be if elected' --> dialogues\n",
    "\n",
    "# parse monologues and dialogues\n",
    "\n",
    "monologues = df[0:0]\n",
    "dialogues = df[0:0]\n",
    "\n",
    "topics = np.delete(df['Topic'].unique(), [0, 1, 13, 15, 16, 19, 20, 21, 26, 29, 30, 32, 34, 41, 40, 45]) \n",
    "\n",
    "# manual parsing of 'Economy' (1)\n",
    "tp = df.loc[df['Topic'] == 'Economy']\n",
    "monologues = monologues.append(tp.iloc[3])\n",
    "dialogues = dialogues.append(tp.iloc[0:2])\n",
    "\n",
    "# manual parsing of 'Guns' (13)\n",
    "tp = df.loc[df['Topic'] == 'Guns']\n",
    "monologues = monologues.append(tp.iloc[22])\n",
    "dialogues = dialogues.append(tp.iloc[23:46])\n",
    "\n",
    "# manual parsing of 'Mitch McConnell' (15)\n",
    "tp = df.loc[df['Topic'] == 'Mitch McConnell']\n",
    "monologues = monologues.append(tp.iloc[3])\n",
    "dialogues = dialogues.append(tp.iloc[4:12])\n",
    "\n",
    "# manual parsing of 'Climate Change' (16)\n",
    "tp = df.loc[df['Topic'] == 'Climate Change']\n",
    "monologues = monologues.append(tp.iloc[5])\n",
    "dialogues = dialogues.append(tp.iloc[6:34])\n",
    "\n",
    "# manual parsing of 'Biggest Geopolitical Threat' (19)\n",
    "tp = df.loc[df['Topic'] == 'Biggest Geopolitical Threat']\n",
    "dialogues = dialogues.append(tp)\n",
    "\n",
    "# manual parsing of 'Impeachment' (20)\n",
    "tp = df.loc[df['Topic'] == 'Impeachment']\n",
    "monologues = monologues.append(tp.iloc[2])\n",
    "dialogues = dialogues.append(tp.iloc[3:18])\n",
    "\n",
    "# manual parsing of 'Buttigieg on why he doesn’t support free college' (26)\n",
    "tp = df.loc[df['Topic'] == 'Buttigieg on why he doesn’t support free college']\n",
    "monologues = monologues.append(tp.iloc[3])\n",
    "dialogues = dialogues.append(tp.iloc[[0, 2],:])\n",
    "\n",
    "# manual parsing of 'Candidates weigh in on healthcare' (29)\n",
    "tp = df.loc[df['Topic'] == 'Candidates weigh in on healthcare']\n",
    "monologues = monologues.append(tp.iloc[5])\n",
    "dialogues = dialogues.append(tp.iloc[6:77])\n",
    "\n",
    "# manual parsing of 'Candidates on how they would address undocumented immigrants' (30)\n",
    "tp = df.loc[df['Topic'] == 'Candidates on how they would address undocumented immigrants']\n",
    "monologues = monologues.append(tp.iloc[3])\n",
    "dialogues = dialogues.append(tp.iloc[4:66])\n",
    "\n",
    "# Sen. Harris dramatically confronts Biden on his civil rights record (34)\n",
    "tp = df.loc[df['Topic'] == 'Sen. Harris dramatically confronts Biden on his civil rights record']\n",
    "monologues = monologues.append(tp.iloc[7])\n",
    "dialogues = dialogues.append(tp.iloc[8:31])\n",
    "\n",
    "# manual parsing of 'Candidates on what their first issue would be if elected' (41)\n",
    "tp = df.loc[df['Topic'] == 'Candidates on what their first issue would be if elected']\n",
    "dialogues = dialogues.append(tp)\n",
    "\n",
    "for topic in topics:\n",
    "    # print(df.loc[df['Topic'] == topic])\n",
    "    tp = df.loc[df['Topic'] == topic]\n",
    "    idx_mono = tp.SpeakerInfo.eq('Candidate').idxmax()\n",
    "    # print('\\n\\n monologue idx: ', idx_mono, '\\n\\n')\n",
    "    monologues = monologues.append(df.iloc[[idx_mono]])\n",
    "    \n",
    "    # determine last record; use idx_mono and idx_last to grab remaining discourse on the topic; this constitutes a dialogue\n",
    "    idx = df.index\n",
    "    idx_last = idx[df.RowID.eq(tp['RowID'].iloc[[-1]])][0]\n",
    "    # print('\\n\\n last RowID of topic: ', idx_last, '\\n\\n')\n",
    "    dialogues = dialogues.append(df.iloc[idx_mono:idx_last,:])\n",
    "\n",
    "cs = df.loc[(((df['Topic'] == 'Closing Statements') | (df['Topic'] == 'Their closing statements')) & (df['SpeakerInfo'] == 'Candidate'))]\n",
    "monologues = monologues.append(cs)\n",
    "\n",
    "monologues.rename(columns = {'Discourse w/o names': 'Text'}, inplace = True)\n",
    "dialogues.rename(columns = {'Discourse w/o names': 'Text'}, inplace = True)\n",
    "\n",
    "print('\\n number of monologues: ', len(monologues))\n",
    "# print('\\n\\n monologues: \\n\\n', monologues)\n",
    "print('\\n\\n number of dialogues: ', len(dialogues))\n",
    "# print('\\n\\n dialogues: \\n\\n', dialogues)"
   ]
  },
  {
   "cell_type": "markdown",
   "metadata": {},
   "source": [
    "## Determine long monologues that should be manually parsed into halves/thirds"
   ]
  },
  {
   "cell_type": "code",
   "execution_count": 20,
   "metadata": {},
   "outputs": [
    {
     "name": "stdout",
     "output_type": "stream",
     "text": [
      "\n",
      "\n",
      " Monologues to be halved: \n",
      "\n",
      " [14, 237, 688, 19, 39, 87, 100, 105, 167, 281, 410, 648, 713, 758, 784, 944, 367, 376, 379, 382, 388, 391, 393, 396, 399, 402, 954, 957, 960, 965, 968, 971, 974, 978, 980, 983]\n",
      "\n",
      "\n",
      " Monologues to be cut in thirds: \n",
      "\n",
      " [201, 251, 348, 459, 510, 584, 16, 30, 43, 49, 57, 226, 296, 418, 421, 423, 501, 665, 718, 771, 871]\n"
     ]
    }
   ],
   "source": [
    "# count characters in 'text'; if greater than 1024 put into 'thirds'; else put into 'halves'; manually parse duplicates\n",
    "halves = []\n",
    "thirds = []\n",
    "\n",
    "for row in monologues[['RowID', 'Text']].itertuples():\n",
    "    if len(row.Text) > 1024:\n",
    "        thirds.append(row.RowID)\n",
    "    elif 512 < len(row.Text) < 1024:\n",
    "        halves.append(row.RowID)\n",
    "\n",
    "print('\\n\\n Monologues to be halved: \\n\\n', halves)\n",
    "print('\\n\\n Monologues to be cut in thirds: \\n\\n',thirds)"
   ]
  },
  {
   "cell_type": "code",
   "execution_count": 21,
   "metadata": {},
   "outputs": [
    {
     "name": "stdout",
     "output_type": "stream",
     "text": [
      "68\n",
      "751\n"
     ]
    }
   ],
   "source": [
    "m = monologues['Text'].tolist()\n",
    "d = dialogues['Text'].tolist()\n",
    "print(len(m))\n",
    "print(len(d))"
   ]
  },
  {
   "cell_type": "markdown",
   "metadata": {},
   "source": [
    "## Tag utterances for POS using Flair library"
   ]
  },
  {
   "cell_type": "code",
   "execution_count": 24,
   "metadata": {},
   "outputs": [
    {
     "name": "stdout",
     "output_type": "stream",
     "text": [
      "2021-09-18 14:29:41,696 https://nlp.informatik.hu-berlin.de/resources/models/pos-fast/en-pos-ontonotes-fast-v0.5.pt not found in cache, downloading to /tmp/tmpxeopw908\n"
     ]
    },
    {
     "name": "stderr",
     "output_type": "stream",
     "text": [
      "\n",
      "  0%|          | 0/75266317 [00:00<?, ?B/s]\u001b[A\n",
      "  0%|          | 48128/75266317 [00:00<03:14, 387222.72B/s]\u001b[A\n",
      "  0%|          | 272384/75266317 [00:00<02:26, 510750.68B/s]\u001b[A\n",
      "  1%|          | 568320/75266317 [00:00<01:50, 678975.65B/s]\u001b[A\n",
      "  1%|          | 728064/75266317 [00:00<01:31, 815130.57B/s]\u001b[A\n",
      "  1%|▏         | 1128448/75266317 [00:00<01:09, 1070956.53B/s]\u001b[A\n",
      "  2%|▏         | 1552384/75266317 [00:00<00:55, 1339847.01B/s]\u001b[A\n",
      "  3%|▎         | 1951744/75266317 [00:00<00:44, 1665016.06B/s]\u001b[A\n",
      "  3%|▎         | 2242560/75266317 [00:00<00:38, 1875235.54B/s]\u001b[A\n",
      "  4%|▎         | 2664448/75266317 [00:00<00:32, 2239630.99B/s]\u001b[A\n",
      "  4%|▍         | 3015680/75266317 [00:01<00:28, 2507383.20B/s]\u001b[A\n",
      "  5%|▍         | 3416064/75266317 [00:01<00:25, 2801252.03B/s]\u001b[A\n",
      "  5%|▌         | 3768320/75266317 [00:01<00:23, 2982371.16B/s]\u001b[A\n",
      "  6%|▌         | 4232192/75266317 [00:01<00:21, 3337119.00B/s]\u001b[A\n",
      "  6%|▌         | 4614144/75266317 [00:01<00:21, 3213040.55B/s]\u001b[A\n",
      "  7%|▋         | 5014528/75266317 [00:01<00:20, 3415023.47B/s]\u001b[A\n",
      "  7%|▋         | 5384192/75266317 [00:01<00:20, 3475815.59B/s]\u001b[A\n",
      "  8%|▊         | 5751808/75266317 [00:01<00:20, 3417457.33B/s]\u001b[A\n",
      "  8%|▊         | 6108160/75266317 [00:01<00:23, 2988119.65B/s]\u001b[A\n",
      "  9%|▊         | 6528000/75266317 [00:02<00:21, 3263608.64B/s]\u001b[A\n",
      "  9%|▉         | 6876160/75266317 [00:02<00:20, 3297204.55B/s]\u001b[A\n",
      " 10%|▉         | 7239680/75266317 [00:02<00:20, 3388174.74B/s]\u001b[A\n",
      " 10%|█         | 7696384/75266317 [00:02<00:18, 3664438.25B/s]\u001b[A\n",
      " 11%|█         | 8112128/75266317 [00:02<00:17, 3796009.41B/s]\u001b[A\n",
      " 11%|█▏        | 8503296/75266317 [00:02<00:17, 3825689.50B/s]\u001b[A\n",
      " 12%|█▏        | 8943616/75266317 [00:02<00:16, 3967236.36B/s]\u001b[A\n",
      " 12%|█▏        | 9348096/75266317 [00:02<00:16, 3927793.27B/s]\u001b[A\n",
      " 13%|█▎        | 9746432/75266317 [00:02<00:20, 3193037.83B/s]\u001b[A\n",
      " 13%|█▎        | 10143744/75266317 [00:03<00:19, 3390539.97B/s]\u001b[A\n",
      " 14%|█▍        | 10544128/75266317 [00:03<00:18, 3550225.82B/s]\u001b[A\n",
      " 15%|█▍        | 10940416/75266317 [00:03<00:17, 3664703.59B/s]\u001b[A\n",
      " 15%|█▌        | 11320320/75266317 [00:03<00:24, 2607905.62B/s]\u001b[A\n",
      " 16%|█▋        | 12392448/75266317 [00:03<00:18, 3370056.11B/s]\u001b[A\n",
      " 17%|█▋        | 12929024/75266317 [00:03<00:18, 3375399.17B/s]\u001b[A\n",
      " 18%|█▊        | 13406208/75266317 [00:03<00:18, 3373235.98B/s]\u001b[A\n",
      " 18%|█▊        | 13841408/75266317 [00:04<00:18, 3352398.94B/s]\u001b[A\n",
      " 19%|█▉        | 14245888/75266317 [00:04<00:17, 3420614.23B/s]\u001b[A\n",
      " 19%|█▉        | 14641152/75266317 [00:04<00:17, 3563524.37B/s]\u001b[A\n",
      " 20%|██        | 15060992/75266317 [00:04<00:16, 3732508.10B/s]\u001b[A\n",
      " 21%|██        | 15461376/75266317 [00:04<00:15, 3749849.41B/s]\u001b[A\n",
      " 21%|██        | 15855616/75266317 [00:04<00:23, 2568405.72B/s]\u001b[A\n",
      " 22%|██▏       | 16182272/75266317 [00:04<00:21, 2744369.09B/s]\u001b[A\n",
      " 22%|██▏       | 16783360/75266317 [00:04<00:17, 3278840.44B/s]\u001b[A\n",
      " 23%|██▎       | 17552384/75266317 [00:05<00:14, 3902838.52B/s]\u001b[A\n",
      " 24%|██▍       | 18048000/75266317 [00:05<00:15, 3629503.43B/s]\u001b[A\n",
      " 25%|██▍       | 18488320/75266317 [00:05<00:16, 3434483.83B/s]\u001b[A\n",
      " 25%|██▌       | 18920448/75266317 [00:05<00:15, 3646497.41B/s]\u001b[A\n",
      " 26%|██▌       | 19345408/75266317 [00:05<00:14, 3808518.77B/s]\u001b[A\n",
      " 26%|██▋       | 19775488/75266317 [00:05<00:14, 3942714.21B/s]\u001b[A\n",
      " 27%|██▋       | 20193280/75266317 [00:05<00:14, 3879343.20B/s]\u001b[A\n",
      " 27%|██▋       | 20598784/75266317 [00:05<00:16, 3271307.56B/s]\u001b[A\n",
      " 28%|██▊       | 20968448/75266317 [00:06<00:17, 3154189.22B/s]\u001b[A\n",
      " 28%|██▊       | 21311488/75266317 [00:06<00:16, 3231596.50B/s]\u001b[A\n",
      " 29%|██▉       | 21650432/75266317 [00:06<00:16, 3217776.42B/s]\u001b[A\n",
      " 29%|██▉       | 21988352/75266317 [00:06<00:16, 3264078.84B/s]\u001b[A\n",
      " 30%|██▉       | 22424576/75266317 [00:06<00:14, 3530478.64B/s]\u001b[A\n",
      " 30%|███       | 22789120/75266317 [00:06<00:15, 3366319.14B/s]\u001b[A\n",
      " 31%|███       | 23168000/75266317 [00:06<00:14, 3482707.46B/s]\u001b[A\n",
      " 31%|███▏      | 23560192/75266317 [00:06<00:14, 3554850.74B/s]\u001b[A\n",
      " 32%|███▏      | 23999488/75266317 [00:06<00:13, 3760980.98B/s]\u001b[A\n",
      " 32%|███▏      | 24383488/75266317 [00:07<00:14, 3462501.54B/s]\u001b[A\n",
      " 33%|███▎      | 24739840/75266317 [00:07<00:15, 3229862.60B/s]\u001b[A\n",
      " 33%|███▎      | 25144320/75266317 [00:07<00:14, 3431049.13B/s]\u001b[A\n",
      " 34%|███▍      | 25498624/75266317 [00:07<00:14, 3323476.29B/s]\u001b[A\n",
      " 34%|███▍      | 25929728/75266317 [00:07<00:13, 3568428.07B/s]\u001b[A\n",
      " 35%|███▌      | 26368000/75266317 [00:07<00:12, 3768188.84B/s]\u001b[A\n",
      " 36%|███▌      | 26788864/75266317 [00:07<00:12, 3890213.19B/s]\u001b[A\n",
      " 36%|███▌      | 27187200/75266317 [00:07<00:12, 3791226.07B/s]\u001b[A\n",
      " 37%|███▋      | 27573248/75266317 [00:07<00:13, 3464382.40B/s]\u001b[A\n",
      " 37%|███▋      | 27967488/75266317 [00:08<00:13, 3591210.67B/s]\u001b[A\n",
      " 38%|███▊      | 28335104/75266317 [00:08<00:13, 3382218.93B/s]\u001b[A\n",
      " 38%|███▊      | 28688384/75266317 [00:08<00:13, 3415599.71B/s]\u001b[A\n",
      " 39%|███▊      | 29056000/75266317 [00:08<00:13, 3444549.62B/s]\u001b[A\n",
      " 39%|███▉      | 29519872/75266317 [00:08<00:12, 3728161.93B/s]\u001b[A\n",
      " 40%|███▉      | 29968384/75266317 [00:08<00:11, 3912801.32B/s]\u001b[A\n",
      " 40%|████      | 30369792/75266317 [00:08<00:11, 3853722.59B/s]\u001b[A\n",
      " 41%|████      | 30787584/75266317 [00:08<00:11, 3945504.70B/s]\u001b[A\n",
      " 41%|████▏     | 31187968/75266317 [00:08<00:14, 2999101.27B/s]\u001b[A\n",
      " 43%|████▎     | 32031744/75266317 [00:09<00:11, 3716705.23B/s]\u001b[A\n",
      " 43%|████▎     | 32521216/75266317 [00:09<00:12, 3537011.58B/s]\u001b[A\n",
      " 44%|████▍     | 32959488/75266317 [00:09<00:12, 3326705.02B/s]\u001b[A\n",
      " 44%|████▍     | 33353728/75266317 [00:09<00:12, 3314903.02B/s]\u001b[A\n",
      " 45%|████▍     | 33728512/75266317 [00:09<00:12, 3406382.98B/s]\u001b[A\n",
      " 45%|████▌     | 34100224/75266317 [00:09<00:11, 3468826.80B/s]\u001b[A\n",
      " 46%|████▌     | 34468864/75266317 [00:09<00:13, 3080606.31B/s]\u001b[A\n",
      " 46%|████▌     | 34800640/75266317 [00:09<00:13, 2959608.87B/s]\u001b[A\n",
      " 47%|████▋     | 35113984/75266317 [00:10<00:13, 2876306.28B/s]\u001b[A\n",
      " 47%|████▋     | 35495936/75266317 [00:10<00:12, 3106335.33B/s]\u001b[A\n",
      " 48%|████▊     | 36039680/75266317 [00:10<00:11, 3517538.67B/s]\u001b[A\n",
      " 49%|████▊     | 36551680/75266317 [00:10<00:09, 3872328.00B/s]\u001b[A\n",
      " 49%|████▉     | 36970496/75266317 [00:10<00:09, 3869583.90B/s]\u001b[A\n",
      " 50%|████▉     | 37379072/75266317 [00:10<00:10, 3747342.89B/s]\u001b[A\n",
      " 50%|█████     | 37783552/75266317 [00:10<00:10, 3734440.10B/s]\u001b[A\n",
      " 51%|█████     | 38248448/75266317 [00:10<00:09, 3925223.07B/s]\u001b[A\n",
      " 51%|█████▏    | 38656000/75266317 [00:10<00:09, 3941463.72B/s]\u001b[A\n",
      " 52%|█████▏    | 39058432/75266317 [00:11<00:09, 3866791.66B/s]\u001b[A\n",
      " 52%|█████▏    | 39472128/75266317 [00:11<00:09, 3852139.39B/s]\u001b[A\n",
      " 53%|█████▎    | 39861248/75266317 [00:11<00:11, 3163492.62B/s]\u001b[A\n",
      " 54%|█████▍    | 40655872/75266317 [00:11<00:09, 3732664.36B/s]\u001b[A\n",
      " 55%|█████▍    | 41086976/75266317 [00:11<00:11, 2979235.92B/s]\u001b[A\n",
      " 55%|█████▌    | 41449472/75266317 [00:11<00:16, 2003754.55B/s]\u001b[A\n",
      " 55%|█████▌    | 41737216/75266317 [00:12<00:18, 1838643.72B/s]\u001b[A\n",
      " 56%|█████▌    | 42200064/75266317 [00:12<00:14, 2240982.37B/s]\u001b[A\n",
      " 57%|█████▋    | 42584064/75266317 [00:12<00:14, 2272290.43B/s]\u001b[A\n",
      " 58%|█████▊    | 43352064/75266317 [00:12<00:11, 2874751.04B/s]\u001b[A\n",
      " 58%|█████▊    | 43780096/75266317 [00:12<00:10, 3005931.81B/s]\u001b[A\n",
      " 59%|█████▊    | 44180480/75266317 [00:12<00:09, 3187361.41B/s]\u001b[A\n",
      " 59%|█████▉    | 44572672/75266317 [00:12<00:09, 3372969.48B/s]\u001b[A\n",
      " 60%|█████▉    | 44963840/75266317 [00:13<00:10, 3015385.80B/s]\u001b[A\n",
      " 60%|██████    | 45450240/75266317 [00:13<00:08, 3403316.02B/s]\u001b[A\n",
      " 61%|██████    | 45839360/75266317 [00:13<00:09, 3119009.99B/s]\u001b[A\n",
      " 61%|██████▏   | 46189568/75266317 [00:13<00:09, 3169177.64B/s]\u001b[A\n",
      " 62%|██████▏   | 46533632/75266317 [00:13<00:10, 2856335.64B/s]\u001b[A\n",
      " 62%|██████▏   | 46848000/75266317 [00:13<00:09, 2907224.45B/s]\u001b[A\n",
      " 63%|██████▎   | 47157248/75266317 [00:13<00:09, 2823809.48B/s]\u001b[A\n",
      " 63%|██████▎   | 47453184/75266317 [00:13<00:10, 2737993.30B/s]\u001b[A\n",
      " 63%|██████▎   | 47736832/75266317 [00:13<00:10, 2614613.44B/s]\u001b[A\n",
      " 64%|██████▍   | 48006144/75266317 [00:14<00:10, 2510331.15B/s]\u001b[A\n",
      " 64%|██████▍   | 48264192/75266317 [00:14<00:10, 2491997.95B/s]\u001b[A\n",
      " 64%|██████▍   | 48518144/75266317 [00:14<00:10, 2471122.39B/s]\u001b[A\n",
      " 65%|██████▍   | 48769024/75266317 [00:14<00:10, 2453603.95B/s]\u001b[A\n",
      " 65%|██████▌   | 49016832/75266317 [00:14<00:10, 2429424.86B/s]\u001b[A\n",
      " 65%|██████▌   | 49263616/75266317 [00:14<00:10, 2427185.37B/s]\u001b[A\n"
     ]
    },
    {
     "name": "stderr",
     "output_type": "stream",
     "text": [
      " 66%|██████▌   | 49552384/75266317 [00:14<00:10, 2537248.12B/s]\u001b[A\n",
      " 66%|██████▌   | 49808384/75266317 [00:14<00:10, 2435121.98B/s]\u001b[A\n",
      " 67%|██████▋   | 50079744/75266317 [00:14<00:10, 2502680.51B/s]\u001b[A\n",
      " 67%|██████▋   | 50383872/75266317 [00:15<00:09, 2590066.06B/s]\u001b[A\n",
      " 67%|██████▋   | 50664448/75266317 [00:15<00:09, 2637218.92B/s]\u001b[A\n",
      " 68%|██████▊   | 50930688/75266317 [00:15<00:09, 2492507.64B/s]\u001b[A\n",
      " 68%|██████▊   | 51183616/75266317 [00:15<00:09, 2460311.65B/s]\u001b[A\n",
      " 68%|██████▊   | 51432448/75266317 [00:15<00:10, 2249194.17B/s]\u001b[A\n",
      " 69%|██████▊   | 51735552/75266317 [00:15<00:10, 2345378.65B/s]\u001b[A\n",
      " 69%|██████▉   | 52064256/75266317 [00:15<00:09, 2564301.37B/s]\u001b[A\n",
      " 70%|██████▉   | 52330496/75266317 [00:15<00:09, 2518712.05B/s]\u001b[A\n",
      " 70%|██████▉   | 52589568/75266317 [00:15<00:09, 2352746.33B/s]\u001b[A\n",
      " 70%|███████   | 52872192/75266317 [00:16<00:09, 2335134.69B/s]\u001b[A\n",
      " 71%|███████   | 53191680/75266317 [00:16<00:08, 2532776.01B/s]\u001b[A\n",
      " 71%|███████   | 53453824/75266317 [00:16<00:09, 2251108.62B/s]\u001b[A\n",
      " 71%|███████▏  | 53736448/75266317 [00:16<00:09, 2365281.50B/s]\u001b[A\n",
      " 72%|███████▏  | 53983232/75266317 [00:16<00:09, 2331307.13B/s]\u001b[A\n",
      " 72%|███████▏  | 54280192/75266317 [00:16<00:09, 2127825.06B/s]\u001b[A\n",
      " 73%|███████▎  | 54639616/75266317 [00:16<00:08, 2326873.47B/s]\u001b[A\n",
      " 73%|███████▎  | 54884352/75266317 [00:16<00:08, 2359483.85B/s]\u001b[A\n",
      " 73%|███████▎  | 55129088/75266317 [00:17<00:08, 2287397.70B/s]\u001b[A\n",
      " 74%|███████▎  | 55364608/75266317 [00:17<00:08, 2229013.13B/s]\u001b[A\n",
      " 74%|███████▍  | 55592960/75266317 [00:17<00:09, 2160047.18B/s]\u001b[A\n",
      " 74%|███████▍  | 55849984/75266317 [00:17<00:08, 2268659.71B/s]\u001b[A\n",
      " 75%|███████▍  | 56087552/75266317 [00:17<00:08, 2281124.94B/s]\u001b[A\n",
      " 75%|███████▍  | 56318976/75266317 [00:17<00:08, 2260769.79B/s]\u001b[A\n",
      " 75%|███████▌  | 56584192/75266317 [00:17<00:08, 2309153.94B/s]\u001b[A\n",
      " 75%|███████▌  | 56817664/75266317 [00:17<00:07, 2310921.44B/s]\u001b[A\n",
      " 76%|███████▌  | 57071616/75266317 [00:17<00:07, 2366347.93B/s]\u001b[A\n",
      " 76%|███████▌  | 57310208/75266317 [00:18<00:07, 2285034.09B/s]\u001b[A\n",
      " 77%|███████▋  | 57583616/75266317 [00:18<00:07, 2392278.97B/s]\u001b[A\n",
      " 77%|███████▋  | 57825280/75266317 [00:18<00:07, 2376416.22B/s]\u001b[A\n",
      " 77%|███████▋  | 58064896/75266317 [00:18<00:08, 1985749.52B/s]\u001b[A\n",
      " 78%|███████▊  | 58336256/75266317 [00:18<00:07, 2122127.09B/s]\u001b[A\n",
      " 78%|███████▊  | 58624000/75266317 [00:18<00:08, 1979073.96B/s]\u001b[A\n",
      " 78%|███████▊  | 58959872/75266317 [00:18<00:07, 2215744.06B/s]\u001b[A\n",
      " 79%|███████▊  | 59197440/75266317 [00:18<00:08, 1966883.91B/s]\u001b[A\n",
      " 79%|███████▉  | 59410432/75266317 [00:19<00:08, 1773923.67B/s]\u001b[A\n",
      " 79%|███████▉  | 59602944/75266317 [00:19<00:09, 1662334.05B/s]\u001b[A\n",
      " 79%|███████▉  | 59781120/75266317 [00:19<00:09, 1633474.41B/s]\u001b[A\n",
      " 80%|███████▉  | 59953152/75266317 [00:19<00:09, 1544944.20B/s]\u001b[A\n",
      " 80%|███████▉  | 60114944/75266317 [00:19<00:09, 1538430.97B/s]\u001b[A\n",
      " 80%|████████  | 60273664/75266317 [00:19<00:09, 1514436.54B/s]\u001b[A\n",
      " 80%|████████  | 60429312/75266317 [00:19<00:09, 1496408.32B/s]\u001b[A\n",
      " 81%|████████  | 60600320/75266317 [00:19<00:09, 1534163.57B/s]\u001b[A\n",
      " 81%|████████  | 60791808/75266317 [00:19<00:09, 1541224.56B/s]\u001b[A\n",
      " 81%|████████  | 60976128/75266317 [00:20<00:09, 1581490.54B/s]\u001b[A\n",
      " 81%|████████▏ | 61167616/75266317 [00:20<00:09, 1527661.77B/s]\u001b[A\n",
      " 82%|████████▏ | 61360128/75266317 [00:20<00:09, 1500153.83B/s]\u001b[A\n",
      " 82%|████████▏ | 61551616/75266317 [00:20<00:09, 1515505.22B/s]\u001b[A\n",
      " 82%|████████▏ | 61744128/75266317 [00:20<00:09, 1489224.83B/s]\u001b[A\n",
      " 82%|████████▏ | 61935616/75266317 [00:20<00:08, 1559665.16B/s]\u001b[A\n",
      " 83%|████████▎ | 62143488/75266317 [00:20<00:08, 1601407.71B/s]\u001b[A\n",
      " 83%|████████▎ | 62305280/75266317 [00:21<00:09, 1389065.00B/s]\u001b[A\n",
      " 83%|████████▎ | 62495744/75266317 [00:21<00:08, 1479674.19B/s]\u001b[A\n",
      " 83%|████████▎ | 62703616/75266317 [00:21<00:07, 1593122.53B/s]\u001b[A\n",
      " 84%|████████▎ | 62904320/75266317 [00:21<00:07, 1681832.13B/s]\u001b[A\n",
      " 84%|████████▍ | 63078400/75266317 [00:21<00:07, 1664776.60B/s]\u001b[A\n",
      " 84%|████████▍ | 63249408/75266317 [00:21<00:07, 1660660.43B/s]\u001b[A\n",
      " 84%|████████▍ | 63423488/75266317 [00:21<00:07, 1669412.18B/s]\u001b[A\n",
      " 84%|████████▍ | 63593472/75266317 [00:21<00:06, 1669535.58B/s]\u001b[A\n",
      " 85%|████████▍ | 63807488/75266317 [00:21<00:06, 1681178.99B/s]\u001b[A\n",
      " 85%|████████▌ | 64031744/75266317 [00:21<00:06, 1782720.95B/s]\u001b[A\n",
      " 85%|████████▌ | 64216064/75266317 [00:22<00:06, 1795641.87B/s]\u001b[A\n",
      " 86%|████████▌ | 64415744/75266317 [00:22<00:05, 1845586.48B/s]\u001b[A\n",
      " 86%|████████▌ | 64616448/75266317 [00:22<00:05, 1885640.03B/s]\u001b[A\n",
      " 86%|████████▌ | 64808960/75266317 [00:22<00:05, 1897056.72B/s]\u001b[A\n",
      " 86%|████████▋ | 65040384/75266317 [00:22<00:05, 1996928.59B/s]\u001b[A\n",
      " 87%|████████▋ | 65256448/75266317 [00:22<00:04, 2031773.28B/s]\u001b[A\n",
      " 87%|████████▋ | 65461248/75266317 [00:22<00:05, 1860027.46B/s]\u001b[A\n",
      " 87%|████████▋ | 65680384/75266317 [00:22<00:04, 1920790.84B/s]\u001b[A\n",
      " 88%|████████▊ | 65875968/75266317 [00:22<00:05, 1729018.98B/s]\u001b[A\n",
      " 88%|████████▊ | 66104320/75266317 [00:23<00:04, 1847922.92B/s]\u001b[A\n",
      " 88%|████████▊ | 66320384/75266317 [00:23<00:04, 1922838.17B/s]\u001b[A\n",
      " 88%|████████▊ | 66528256/75266317 [00:23<00:04, 1913890.78B/s]\u001b[A\n",
      " 89%|████████▊ | 66784256/75266317 [00:23<00:04, 2020685.79B/s]\u001b[A\n",
      " 89%|████████▉ | 67007488/75266317 [00:23<00:03, 2075803.33B/s]\u001b[A\n",
      " 89%|████████▉ | 67218432/75266317 [00:23<00:03, 2026864.80B/s]\u001b[A\n",
      " 90%|████████▉ | 67424256/75266317 [00:23<00:04, 1841270.20B/s]\u001b[A\n",
      " 90%|████████▉ | 67613696/75266317 [00:23<00:04, 1816267.04B/s]\u001b[A\n",
      " 90%|█████████ | 67799040/75266317 [00:23<00:04, 1824778.51B/s]\u001b[A\n",
      " 90%|█████████ | 67984384/75266317 [00:24<00:04, 1790517.20B/s]\u001b[A\n",
      " 91%|█████████ | 68165632/75266317 [00:24<00:04, 1730358.12B/s]\u001b[A\n",
      " 91%|█████████ | 68360192/75266317 [00:24<00:03, 1754217.27B/s]\u001b[A\n",
      " 91%|█████████ | 68552704/75266317 [00:24<00:03, 1800623.79B/s]\u001b[A\n",
      " 91%|█████████▏| 68736000/75266317 [00:24<00:03, 1731636.97B/s]\u001b[A\n",
      " 92%|█████████▏| 68960256/75266317 [00:24<00:03, 1821108.78B/s]\u001b[A\n",
      " 92%|█████████▏| 69145600/75266317 [00:24<00:03, 1753786.82B/s]\u001b[A\n",
      " 92%|█████████▏| 69323776/75266317 [00:24<00:03, 1759738.98B/s]\u001b[A\n",
      " 92%|█████████▏| 69501952/75266317 [00:24<00:03, 1651719.01B/s]\u001b[A\n",
      " 93%|█████████▎| 69669888/75266317 [00:25<00:03, 1605398.36B/s]\u001b[A\n",
      " 93%|█████████▎| 69864448/75266317 [00:25<00:03, 1679564.73B/s]\u001b[A\n",
      " 93%|█████████▎| 70035456/75266317 [00:25<00:03, 1466592.30B/s]\u001b[A\n",
      " 93%|█████████▎| 70200320/75266317 [00:25<00:03, 1359249.88B/s]\u001b[A\n",
      " 94%|█████████▎| 70383616/75266317 [00:25<00:03, 1407306.18B/s]\u001b[A\n",
      " 94%|█████████▍| 70576128/75266317 [00:25<00:03, 1458123.20B/s]\u001b[A\n",
      " 94%|█████████▍| 70760448/75266317 [00:25<00:02, 1521011.07B/s]\u001b[A\n",
      " 94%|█████████▍| 70916096/75266317 [00:25<00:02, 1527316.13B/s]\u001b[A\n",
      " 94%|█████████▍| 71071744/75266317 [00:26<00:02, 1504994.02B/s]\u001b[A\n",
      " 95%|█████████▍| 71224320/75266317 [00:26<00:02, 1477170.79B/s]\u001b[A\n",
      " 95%|█████████▍| 71384064/75266317 [00:26<00:02, 1463469.36B/s]\u001b[A\n",
      " 95%|█████████▌| 71552000/75266317 [00:26<00:02, 1334076.81B/s]\u001b[A\n",
      " 95%|█████████▌| 71736320/75266317 [00:26<00:02, 1440518.38B/s]\u001b[A\n",
      " 96%|█████████▌| 71885824/75266317 [00:26<00:02, 1367941.30B/s]\u001b[A\n",
      " 96%|█████████▌| 72027136/75266317 [00:26<00:02, 1361625.51B/s]\u001b[A\n",
      " 96%|█████████▌| 72168448/75266317 [00:26<00:02, 1345500.17B/s]\u001b[A\n",
      " 96%|█████████▌| 72305664/75266317 [00:26<00:02, 1325496.02B/s]\u001b[A\n",
      " 96%|█████████▌| 72439808/75266317 [00:27<00:02, 1220692.94B/s]\u001b[A\n",
      " 96%|█████████▋| 72576000/75266317 [00:27<00:02, 1225018.65B/s]\u001b[A\n",
      " 97%|█████████▋| 72727552/75266317 [00:27<00:01, 1271074.18B/s]\u001b[A\n",
      " 97%|█████████▋| 72871936/75266317 [00:27<00:01, 1315704.00B/s]\u001b[A\n",
      " 97%|█████████▋| 73006080/75266317 [00:27<00:01, 1235358.81B/s]\u001b[A\n",
      " 97%|█████████▋| 73151488/75266317 [00:27<00:01, 1168953.04B/s]\u001b[A\n",
      " 97%|█████████▋| 73320448/75266317 [00:27<00:01, 1226062.21B/s]\u001b[A\n",
      " 98%|█████████▊| 73488384/75266317 [00:27<00:01, 1277071.96B/s]\u001b[A\n",
      " 98%|█████████▊| 73656320/75266317 [00:27<00:01, 1371488.22B/s]\u001b[A\n",
      " 98%|█████████▊| 73804800/75266317 [00:28<00:01, 1403617.00B/s]\u001b[A\n",
      " 98%|█████████▊| 73948160/75266317 [00:28<00:01, 1263825.55B/s]\u001b[A\n",
      " 98%|█████████▊| 74103808/75266317 [00:28<00:00, 1293672.56B/s]\u001b[A\n",
      " 99%|█████████▊| 74279936/75266317 [00:28<00:00, 1373875.73B/s]\u001b[A\n",
      " 99%|█████████▉| 74421248/75266317 [00:28<00:00, 1347545.20B/s]\u001b[A\n",
      " 99%|█████████▉| 74559488/75266317 [00:28<00:00, 1303949.24B/s]\u001b[A\n"
     ]
    },
    {
     "name": "stderr",
     "output_type": "stream",
     "text": [
      " 99%|█████████▉| 74743808/75266317 [00:28<00:00, 1386528.71B/s]\u001b[A\n",
      "100%|█████████▉| 74928128/75266317 [00:28<00:00, 1475349.09B/s]\u001b[A\n",
      "100%|█████████▉| 75087872/75266317 [00:28<00:00, 1474471.41B/s]\u001b[A\n",
      "100%|██████████| 75266317/75266317 [00:29<00:00, 2585645.87B/s]\u001b[A"
     ]
    },
    {
     "name": "stdout",
     "output_type": "stream",
     "text": [
      "2021-09-18 14:30:11,047 copying /tmp/tmpxeopw908 to cache at /home/ebenge/.flair/models/en-pos-ontonotes-fast-v0.5.pt\n"
     ]
    },
    {
     "name": "stderr",
     "output_type": "stream",
     "text": [
      "\n"
     ]
    },
    {
     "name": "stdout",
     "output_type": "stream",
     "text": [
      "2021-09-18 14:30:11,312 removing temp file /tmp/tmpxeopw908\n",
      "2021-09-18 14:30:11,341 loading file /home/ebenge/.flair/models/en-pos-ontonotes-fast-v0.5.pt\n"
     ]
    },
    {
     "name": "stderr",
     "output_type": "stream",
     "text": [
      "\n",
      "  0%|          | 0/68 [00:00<?, ?it/s]\u001b[A\n",
      "  1%|▏         | 1/68 [00:02<02:56,  2.64s/it]\u001b[A\n",
      " 20%|██        | 15191040/75266317 [01:18<05:09, 194176.33B/s]\n",
      "\n",
      "  4%|▍         | 3/68 [00:07<02:50,  2.63s/it]\u001b[A\n",
      "  6%|▌         | 4/68 [00:10<02:54,  2.73s/it]\u001b[A\n",
      "  7%|▋         | 5/68 [00:14<03:00,  2.86s/it]\u001b[A\n",
      "  9%|▉         | 6/68 [00:17<02:59,  2.90s/it]\u001b[A\n",
      " 10%|█         | 7/68 [00:20<03:04,  3.03s/it]\u001b[A\n",
      " 12%|█▏        | 8/68 [00:23<03:11,  3.19s/it]\u001b[A\n",
      " 13%|█▎        | 9/68 [00:25<02:44,  2.79s/it]\u001b[A\n",
      " 15%|█▍        | 10/68 [00:28<02:43,  2.82s/it]\u001b[A\n",
      " 16%|█▌        | 11/68 [00:30<02:29,  2.62s/it]\u001b[A\n",
      " 18%|█▊        | 12/68 [00:33<02:32,  2.73s/it]\u001b[A\n",
      " 19%|█▉        | 13/68 [00:36<02:24,  2.62s/it]\u001b[A\n",
      " 21%|██        | 14/68 [00:39<02:33,  2.84s/it]\u001b[A\n",
      " 22%|██▏       | 15/68 [00:42<02:30,  2.84s/it]\u001b[A\n",
      " 24%|██▎       | 16/68 [00:45<02:26,  2.82s/it]\u001b[A\n",
      " 25%|██▌       | 17/68 [00:46<02:03,  2.42s/it]\u001b[A\n",
      " 26%|██▋       | 18/68 [00:48<01:52,  2.25s/it]\u001b[A\n",
      " 28%|██▊       | 19/68 [00:50<01:53,  2.31s/it]\u001b[A\n",
      " 29%|██▉       | 20/68 [00:53<01:49,  2.28s/it]\u001b[A\n",
      " 31%|███       | 21/68 [00:56<01:57,  2.51s/it]\u001b[A\n",
      " 32%|███▏      | 22/68 [00:59<02:00,  2.61s/it]\u001b[A\n",
      " 34%|███▍      | 23/68 [01:02<02:05,  2.79s/it]\u001b[A\n",
      " 35%|███▌      | 24/68 [01:04<01:56,  2.66s/it]\u001b[A\n",
      " 37%|███▋      | 25/68 [01:07<01:59,  2.79s/it]\u001b[A\n",
      " 38%|███▊      | 26/68 [01:10<01:58,  2.82s/it]\u001b[A\n",
      " 40%|███▉      | 27/68 [01:13<01:57,  2.87s/it]\u001b[A\n",
      " 41%|████      | 28/68 [01:14<01:35,  2.40s/it]\u001b[A\n",
      " 43%|████▎     | 29/68 [01:17<01:38,  2.53s/it]\u001b[A\n",
      " 44%|████▍     | 30/68 [01:20<01:34,  2.49s/it]\u001b[A\n",
      " 46%|████▌     | 31/68 [01:23<01:44,  2.83s/it]\u001b[A\n",
      " 47%|████▋     | 32/68 [01:25<01:32,  2.57s/it]\u001b[A\n",
      " 49%|████▊     | 33/68 [01:28<01:33,  2.68s/it]\u001b[A\n",
      " 50%|█████     | 34/68 [01:30<01:19,  2.34s/it]\u001b[A\n",
      " 51%|█████▏    | 35/68 [01:33<01:26,  2.61s/it]\u001b[A\n",
      " 53%|█████▎    | 36/68 [01:35<01:13,  2.30s/it]\u001b[A\n",
      " 54%|█████▍    | 37/68 [01:38<01:18,  2.53s/it]\u001b[A\n",
      " 56%|█████▌    | 38/68 [01:38<00:57,  1.93s/it]\u001b[A\n",
      " 57%|█████▋    | 39/68 [01:41<01:03,  2.20s/it]\u001b[A\n",
      " 60%|██████    | 41/68 [01:43<00:50,  1.87s/it]\u001b[A\n",
      " 62%|██████▏   | 42/68 [01:43<00:35,  1.37s/it]\u001b[A\n",
      " 63%|██████▎   | 43/68 [01:43<00:25,  1.00s/it]\u001b[A\n",
      " 65%|██████▍   | 44/68 [01:44<00:18,  1.30it/s]\u001b[A\n",
      " 66%|██████▌   | 45/68 [01:46<00:26,  1.17s/it]\u001b[A\n",
      " 68%|██████▊   | 46/68 [01:48<00:33,  1.51s/it]\u001b[A\n",
      " 69%|██████▉   | 47/68 [01:51<00:41,  1.96s/it]\u001b[A\n",
      " 71%|███████   | 48/68 [01:52<00:30,  1.53s/it]\u001b[A\n",
      " 72%|███████▏  | 49/68 [01:52<00:21,  1.13s/it]\u001b[A\n",
      " 74%|███████▎  | 50/68 [01:55<00:32,  1.78s/it]\u001b[A\n",
      " 75%|███████▌  | 51/68 [01:58<00:34,  2.02s/it]\u001b[A\n",
      " 76%|███████▋  | 52/68 [02:00<00:35,  2.24s/it]\u001b[A\n",
      " 78%|███████▊  | 53/68 [02:03<00:35,  2.38s/it]\u001b[A\n",
      " 79%|███████▉  | 54/68 [02:06<00:34,  2.43s/it]\u001b[A\n",
      " 81%|████████  | 55/68 [02:08<00:32,  2.47s/it]\u001b[A\n",
      " 82%|████████▏ | 56/68 [02:11<00:29,  2.42s/it]\u001b[A\n",
      " 84%|████████▍ | 57/68 [02:13<00:25,  2.31s/it]\u001b[A\n",
      " 85%|████████▌ | 58/68 [02:15<00:22,  2.21s/it]\u001b[A\n",
      " 87%|████████▋ | 59/68 [02:15<00:14,  1.65s/it]\u001b[A\n",
      " 88%|████████▊ | 60/68 [02:15<00:09,  1.21s/it]\u001b[A\n",
      " 90%|████████▉ | 61/68 [02:17<00:10,  1.53s/it]\u001b[A\n",
      " 91%|█████████ | 62/68 [02:20<00:10,  1.79s/it]\u001b[A\n",
      " 93%|█████████▎| 63/68 [02:22<00:09,  1.84s/it]\u001b[A\n",
      " 94%|█████████▍| 64/68 [02:24<00:07,  1.99s/it]\u001b[A\n",
      " 96%|█████████▌| 65/68 [02:25<00:04,  1.61s/it]\u001b[A\n",
      " 97%|█████████▋| 66/68 [02:27<00:03,  1.66s/it]\u001b[A\n",
      " 99%|█████████▊| 67/68 [02:29<00:01,  1.80s/it]\u001b[A\n",
      "100%|██████████| 68/68 [02:31<00:00,  2.23s/it]\u001b[A"
     ]
    },
    {
     "name": "stdout",
     "output_type": "stream",
     "text": [
      "So <RB> I <PRP> think <VBP> of <IN> it <PRP> this <DT> way <NN> . <,> Who <WP> is <VBZ> this <DT> economy <NN> really <RB> working <VBG> for <IN> ? <,> It <PRP> ’s <VBZ> doing <VBG> great <RB> for <IN> a <DT> thinner <JJR> and <CC> thinner <JJR> slice <NN> at <IN> the <DT> top <NN> . <.> It <PRP> ’s <VBZ> doing <VBG> great <RB> for <IN> giant <JJ> drug <NN> companies <NNS> . <,> It <PRP> ’s <VBZ> just <RB> not <RB> doing <VBG> great <RB> for <IN> people <NNS> who <WP> are <VBP> trying <VBG> to <TO> get <VB> a <DT> prescription <NN> filled <VBN> . <.> It <PRP> ’s <VBZ> doing <VBG> great <RB> for <IN> people <NNS> who <WP> want <VBP> to <TO> invest <VB> in <IN> private <JJ> prisons <NNS> , <,> just <RB> not <RB> for <IN> the <DT> African-Americans <NNPS> and <CC> Latinos <NNPS> whose <WP$> families <NNS> are <VBP> torn <VBN> apart <RB> , <,> whose <WP$> lives <NNS> are <VBP> destroyed <VBN> , <,> and <CC> whose <WP$> communities <NNS> are <VBP> ruined <VBN> . <,> It <PRP> ’s <VBZ> doing <VBG> great <RB> for <IN> giant <JJ> oil <NN> companies <NNS> that <WDT> want <VBP> to <TO> drill <VB> everywhere <RB> , <,> just <RB> not <RB> for <IN> the <DT> rest <NN> of <IN> us <PRP> who <WP> are <VBP> watching <VBG> climate <NN> change <NN> bear <VB> down <RP> upon <IN> us <PRP> . <,> When <WRB> you <PRP> ’ve <VBP> got <VBN> a <DT> government <NN> , <,> when <WRB> you <PRP> ’ve <VBP> got <VBN> an <DT> economy <NN> that <WDT> does <VBZ> great <JJ> for <IN> those <DT> with <IN> money <NN> and <CC> is <VBZ> n’t <RB> doing <VBG> great <RB> for <IN> everyone <NN> else <RB> , <,> that <DT> is <VBZ> corruption <NN> , <,> pure <JJ> and <CC> simple <JJ> . <,> We <PRP> need <VBP> to <TO> call <VB> it <PRP> out <RP> . <,> We <PRP> need <VBP> to <TO> attack <VB> it <PRP> head <RB> on <RB> . <,> And <CC> we <PRP> need <VBP> to <TO> make <VB> structural <JJ> change <NN> in <IN> our <PRP$> government <NN> , <,> in <IN> our <PRP$> economy <NN> , <,> and <CC> in <IN> our <PRP$> country <NN> . <.>\n",
      "So I think of it this way. Who is this economy really working for? It’s doing great for a thinner and thinner slice at the top. It’s doing great for giant drug companies. It’s just not doing great for people who are trying to get a prescription filled. It’s doing great for people who want to invest in private prisons, just not for the African-Americans and Latinos whose families are torn apart, whose lives are destroyed, and whose communities are ruined. It’s doing great for giant oil companies that want to drill everywhere, just not for the rest of us who are watching climate change bear down upon us. When you’ve got a government, when you’ve got an economy that does great for those with money and isn’t doing great for everyone else, that is corruption, pure and simple. We need to call it out. We need to attack it head on. And we need to make structural change in our government, in our economy, and in our country.\n"
     ]
    },
    {
     "name": "stderr",
     "output_type": "stream",
     "text": [
      "\n"
     ]
    }
   ],
   "source": [
    "# tag utterances\n",
    "\n",
    "tagger = SequenceTagger.load('pos-fast')\n",
    "\n",
    "corpus = m\n",
    "tagged = []\n",
    "\n",
    "for i in tqdm(corpus):\n",
    "  sentence = Sentence(i)\n",
    "  tagger.predict(sentence)\n",
    "  tagged.append(sentence.to_tagged_string())\n",
    "\n",
    "for i in range(1):\n",
    "  print(tagged[i])\n",
    "  print(corpus[i])"
   ]
  },
  {
   "cell_type": "code",
   "execution_count": 29,
   "metadata": {},
   "outputs": [
    {
     "name": "stderr",
     "output_type": "stream",
     "text": [
      "100%|██████████| 68/68 [00:00<00:00, 438.21it/s]"
     ]
    },
    {
     "name": "stdout",
     "output_type": "stream",
     "text": [
      "RB PRP VBP IN PRP DT wy NN . , WP VBZ DT NN RB VBG IN ? , It PRP ’s VBZ VBG RB IN DT JJR CC JJR NN IN DT p NN . . It PRP ’s VBZ VBG RB IN JJ NN NNS . , It PRP ’s VBZ RB RB VBG RB IN NNS WP VBP VBG TO VB DT NN filled VBN . . It PRP ’s VBZ VBG RB IN NNS WP VBP TO VB IN JJ prons NNS , , RB RB IN DT NNPS CC NNPS WP$ NNS VBP VBN apart RB , , WP$ NNS VBP destroyed VBN , , CC WP$ NNS VBP rued VBN . , It PRP ’s VBZ VBG RB IN JJ NN compies NNS WDT VBP TO VB everywhere RB , , RB RB IN DT NN IN PRP WP VBP VBG NN NN VB RP IN us PRP . , WRB you PRP ’ve VBP VBN a DT government NN , , WRB you PRP ’ve VBP VBN an DT NN WDT VBZ JJ IN DT IN NN CC is VBZ n’t RB VBG RB for IN NN else RB , , DT is VBZ corruption NN , , JJ CC simple JJ . , PRP VBP TO VB PRP out RP . , PRP VBP TO VB PRP RB on RB . , CC PRP VBP to TO VB JJ NN IN PRP$ government NN , , IN PRP$ economy NN , , CC in IN PRP$ country NN . .\n",
      "So I think of it this way. Who is this economy really working for? It’s doing great for a thinner and thinner slice at the top. It’s doing great for giant drug companies. It’s just not doing great for people who are trying to get a prescription filled. It’s doing great for people who want to invest in private prisons, just not for the African-Americans and Latinos whose families are torn apart, whose lives are destroyed, and whose communities are ruined. It’s doing great for giant oil companies that want to drill everywhere, just not for the rest of us who are watching climate change bear down upon us. When you’ve got a government, when you’ve got an economy that does great for those with money and isn’t doing great for everyone else, that is corruption, pure and simple. We need to call it out. We need to attack it head on. And we need to make structural change in our government, in our economy, and in our country.\n"
     ]
    },
    {
     "name": "stderr",
     "output_type": "stream",
     "text": [
      "\n"
     ]
    }
   ],
   "source": [
    "# extract tags \n",
    "\n",
    "for i in tqdm(range(len(tagged))):\n",
    "  for j in corpus[i].split():\n",
    "    tagged[i] = str(tagged[i]).replace(j,\"\",1)\n",
    "\n",
    "  # remove < > characters\n",
    "  for j in  ['<','>']:\n",
    "    tagged[i] = str(tagged[i]).replace(j,\"\")\n",
    "    # remove redundant spaces\n",
    "    tagged[i] = re.sub(' +', ' ', str(tagged[i]))\n",
    "    tagged[i] = str(tagged[i]).lstrip()\n",
    "\n",
    "for i in range(1):\n",
    "  print(tagged[i])\n",
    "  print(corpus[i])"
   ]
  },
  {
   "cell_type": "code",
   "execution_count": 30,
   "metadata": {},
   "outputs": [
    {
     "name": "stderr",
     "output_type": "stream",
     "text": [
      "100%|██████████| 68/68 [00:00<00:00, 1999.89it/s]\n"
     ]
    }
   ],
   "source": [
    "for i in tqdm(range(len(corpus))):\n",
    "  # remove symbols\n",
    "  # corpus[i] = re.sub('[^a-zA-Z]', ' ', str(corpus[i]))\n",
    "  tagged[i] = re.sub('[^a-zA-Z]', ' ', str(tagged[i]))\n",
    "\n",
    "  ## remove HYPH SYM\n",
    "  tagged[i] = str(tagged[i]).replace('HYPH',\"\")\n",
    "  tagged[i] = str(tagged[i]).replace('SYM',\"\")                    \n",
    "\n",
    "  # remove redundant space\n",
    "  # corpus[i] = re.sub(' +', ' ', str(corpus[i]))\n",
    "  tagged[i] = re.sub(' +', ' ', str(tagged[i]))"
   ]
  },
  {
   "cell_type": "code",
   "execution_count": 31,
   "metadata": {
    "scrolled": false
   },
   "outputs": [
    {
     "name": "stdout",
     "output_type": "stream",
     "text": [
      "monologue:\n",
      "\n",
      "So I think of it this way. Who is this economy really working for? It’s doing great for a thinner and thinner slice at the top. It’s doing great for giant drug companies. It’s just not doing great for people who are trying to get a prescription filled. It’s doing great for people who want to invest in private prisons, just not for the African-Americans and Latinos whose families are torn apart, whose lives are destroyed, and whose communities are ruined. It’s doing great for giant oil companies that want to drill everywhere, just not for the rest of us who are watching climate change bear down upon us. When you’ve got a government, when you’ve got an economy that does great for those with money and isn’t doing great for everyone else, that is corruption, pure and simple. We need to call it out. We need to attack it head on. And we need to make structural change in our government, in our economy, and in our country.\n",
      "\n",
      "tagged:\n",
      "\n",
      "RB PRP VBP IN PRP DT wy NN WP VBZ DT NN RB VBG IN It PRP s VBZ VBG RB IN DT JJR CC JJR NN IN DT p NN It PRP s VBZ VBG RB IN JJ NN NNS It PRP s VBZ RB RB VBG RB IN NNS WP VBP VBG TO VB DT NN filled VBN It PRP s VBZ VBG RB IN NNS WP VBP TO VB IN JJ prons NNS RB RB IN DT NNPS CC NNPS WP NNS VBP VBN apart RB WP NNS VBP destroyed VBN CC WP NNS VBP rued VBN It PRP s VBZ VBG RB IN JJ NN compies NNS WDT VBP TO VB everywhere RB RB RB IN DT NN IN PRP WP VBP VBG NN NN VB RP IN us PRP WRB you PRP ve VBP VBN a DT government NN WRB you PRP ve VBP VBN an DT NN WDT VBZ JJ IN DT IN NN CC is VBZ n t RB VBG RB for IN NN else RB DT is VBZ corruption NN JJ CC simple JJ PRP VBP TO VB PRP out RP PRP VBP TO VB PRP RB on RB CC PRP VBP to TO VB JJ NN IN PRP government NN IN PRP economy NN CC in IN PRP country NN \n",
      "\n",
      "------------------------------------------------------------------------------------------\n",
      "\n",
      "monologue:\n",
      "\n",
      "So, in this period of time that I have been running for president, I’ve had more than 100 town halls. I’ve taken more than 2,000 unfiltered questions. And the single hardest questions I’ve gotten, I got one from a little boy and I got one from a little girl, and that is to say, when you’re president, how are you going to keep us safe? That’s our responsibility as adults. Seven children will die today from gun violence, children and teenagers. And they won’t just die in mass shootings. They’ll die on sidewalks, they’ll die in playgrounds, they’ll die in people’s backyards. Gun violence is a national health emergency in this country. And we need to treat it like that. So what can we do? We can do the things that are sensible. We can do the universal background checks. We can ban the weapons of war. But we can also double down on the research and find out what really works, where it is that we can make the differences at the margins that will keep our children safe. We need to treat this like the virus that’s killing our children.\n",
      "\n",
      "tagged:\n",
      "\n",
      "RB N DT NN N NN WDT PRP VBP VBN VBG IN president NN I PRP ve VBP VBN JJR IN CD NN hlls NNS I PRP ve VBP VBN JJR IN CD JJ NNS CC DT JJ JJS quest NNS I PRP ve VBP ten VBN I PRP VBD CD IN DT JJ NN CC I PRP got VBD CD IN DT JJ girl NN CC DT VBZ TO say VB WRB PRP re VBP president NN WRB VBP you PRP VBG TO VB PRP safe JJ Th DT s VBZ PRP NN IN adults NNS CD NNS MD VB NN IN NN NN NNS CC teenagers NNS CC PRP wo MD n t RB RB VB IN NN shootgs NNS They PRP ll DT VBP IN sidewalks NNS y PRP ll DT VBP IN playgrounds NNS y PRP ll DT VBP IN people NNS s POS backyards NNS NN violence NN VBZ a DT JJ NN NN in IN DT country NN CC PRP VBP TO VB PRP IN DT So RB WP MD PRP VB PRP MD VB DT NNS WDT VBP sensible JJ PRP MD do VB DT JJ NN checks NNS PRP MD VB DT NNS IN war NN CC PRP MD RB VB RP on IN DT NN CC VB RP WP RB works VBZ WRB PRP is VBZ IN PRP MD VB DT NNS at IN the DT NNS that WDT MD VB PRP NNS safe JJ PRP VBP TO VB DT IN the DT NN that WDT s VBZ VBG PRP children NNS \n",
      "\n",
      "------------------------------------------------------------------------------------------\n",
      "\n",
      "monologue:\n",
      "\n",
      "I do. We are democracy. And the way a democracy is supposed to work is the will of the people matters. Now, we have for far too long have had a Congress in Washington that has just completely dismissed what people care about across this country. They have made this country work much better than for those who can make giant contributions, made it work better for those who hire armies of lobbyists and lawyers, and not made it work for the people. Well, here’s how I see this happening. Number one, sure, I want to see us get a Democratic majority in the Senate. But short of a Democratic majority in the Senate, you better understand the fight still goes on. It starts in the White House, and it means that everybody we energize in 2020 stays on the frontlines come January 2021. We have to push from the outside, have leadership from the inside, and make this Congress reflect the will of the people.\n",
      "\n",
      "tagged:\n",
      "\n",
      "PRP do VBP PRP VBP democrcy NN CC DT NN DT NN VBZ VBN TO VB VBZ DT NN N DT NNS mtters VBZ Now RB PRP VBP N RB RB RB VBP VBN DT NNP IN NNP WDT VBZ RB RB VBN WP NNS VBP IN IN DT NN PRP VBP VBN DT country NN VB RB RBR IN IN DT WP MD VB JJ ctributions NNS VBD PRP VB RBR IN DT WP VBP NNS IN NNS CC lawyers NNS CC RB VBD PRP VB IN DT people NNS ll UH here RB s VBZ WRB I PRP VBP DT happeng VBG NN one CD sure RB I PRP VBP TO VB PRP VB a DT JJ NN IN DT Senate NNP CC JJ IN a DT JJ NN IN DT Senate NNP PRP RB VBP DT NN RB VBZ on RP PRP VBZ IN DT NNP House NNP CC PRP VBZ IN NN PRP VBP in IN CD VBZ on IN DT NNS VBP NNP CD We PRP VBP TO VB IN DT outside NN VB NN IN DT inside NN CC VB DT NNP VB DT NN IN DT people NNS \n",
      "\n",
      "------------------------------------------------------------------------------------------\n",
      "\n"
     ]
    }
   ],
   "source": [
    "# check tags \n",
    "\n",
    "for i in range(3):\n",
    "  print('monologue:\\n\\n'+corpus[i]+'\\n') \n",
    "  print('tagged:\\n\\n'+tagged[i]+'\\n')\n",
    "  print('-'*90+'\\n')"
   ]
  },
  {
   "cell_type": "code",
   "execution_count": 26,
   "metadata": {},
   "outputs": [
    {
     "name": "stderr",
     "output_type": "stream",
     "text": [
      "100%|██████████| 68/68 [00:00<00:00, 6121.89it/s]\n"
     ]
    },
    {
     "name": "stdout",
     "output_type": "stream",
     "text": [
      "Counter({'<NN>': 1327, '<IN>': 1209, '<DT>': 1028, '<PRP>': 983, '<VB>': 622, '<VBP>': 554, '<RB>': 522, '<JJ>': 493, '<NNS>': 454, '<CC>': 437, '<NNP>': 410, '<VBZ>': 377, '<TO>': 300, 'I': 285, '<VBG>': 246, '<MD>': 203, '<VBN>': 200, '<PRP$>': 193, '<VBD>': 188, '<CD>': 150, '<WP>': 135, '<WDT>': 113, '<WRB>': 93, '<RP>': 51, '<JJR>': 32, '<UH>': 31, '<JJS>': 26, '<NNPS>': 23, '<EX>': 21, '<RBR>': 19, '<POS>': 10, '<RBS>': 9})\n"
     ]
    },
    {
     "data": {
      "image/png": "[encoded data removed]",
      "text/plain": [
       "<Figure size 432x288 with 1 Axes>"
      ]
     },
     "metadata": {
      "needs_background": "light"
     },
     "output_type": "display_data"
    }
   ],
   "source": [
    "from collections import Counter\n",
    "\n",
    "# unpack tagged\n",
    "\n",
    "pos = []\n",
    "\n",
    "for i in tqdm(range(len(tagged))):\n",
    "    pos.extend(tagged[i].split())\n",
    "\n",
    "c = Counter(pos)\n",
    "count = Counter({k: c for k, c in c.items() if k.isupper() if c > 8})\n",
    "\n",
    "print(count)\n",
    "\n",
    "tags = pd.DataFrame().from_dict(count, orient='index')\n",
    "tags.columns = ['pos']\n",
    "tags.sort_values(by='pos', ascending=False).plot(kind='bar')\n",
    "plt.show()\n",
    "\n",
    "# NN - Noun, singular or mass, PRP - Personal pronoun, DT - Determiner, \n",
    "# IN - Preposition or subordinating conjunction, VB - Verb, base form, VBP - Verb, non-3rd person singular present, \n",
    "# RB - Adverb, JJ - Adjective, NNS - Noun, plural, NNP - Proper noun, singular, CC - Coordinating conjunction, \n",
    "# VBZ - Verb, 3rd person singular present, TO - to, VBG - Verb, gerund or present participle, \n",
    "# VBD - Verb, past tense, VBN - Verb, past participle, MD - Modal, CD - Cardinal number, WP - Wh-pronoun, \n",
    "# WDT - Wh-determiner, WRB - Wh-adverb, RP - Particle, UH - Interjection, JJR - Adjective, comparative, \n",
    "# JJS - Adjective, superlative, NNPS - Proper noun, plural, EX - Existential there, RBR Adverb, comparative, \n",
    "# POS - Possessive ending, RRB - ?, FW - Foreign word, RBS - Adverb, superlative, PDT - Predeterminer\n",
    "# LRB - ?, NFP - Superfluous punctuation"
   ]
  },
  {
   "cell_type": "markdown",
   "metadata": {},
   "source": [
    "## Write out monologues and dialogues to TSV files"
   ]
  },
  {
   "cell_type": "code",
   "execution_count": 27,
   "metadata": {},
   "outputs": [],
   "source": [
    "mono_output = monologues[['RowID', 'Speaker', 'SpeakerInfo', 'Question', 'Topic', 'Text']]\n",
    "dia_output = dialogues[['RowID', 'Speaker', 'SpeakerInfo', 'Question', 'Topic', 'Text']]\n",
    "\n",
    "# mono_output.to_csv('processed/dnc_debate_monologues.tsv', sep = '\\t', index=False)\n",
    "# dia_output.to_csv('processed/dnc_debate_dialogues.tsv', sep = '\\t', index=False)"
   ]
  },
  {
   "cell_type": "code",
   "execution_count": 34,
   "metadata": {},
   "outputs": [],
   "source": [
    "# dnc monologues for dnc_mono = pd.read_csv('processed/dnc_debate_monologues.tsv', sep = '\\t')\n",
    "# dnc_mono = dnc_mono[['RowID', 'Topic', 'Speaker', 'Text']]\n",
    "# dnc_mono.to_csv('processed/dnc_monologues_for_pres.tsv', sep = '\\t', index=False)                    "
   ]
  },
  {
   "cell_type": "markdown",
   "metadata": {},
   "source": [
    "## Process TSV files for MLM"
   ]
  },
  {
   "cell_type": "markdown",
   "metadata": {},
   "source": [
    "The manually parsed monologue dataset is named `dnc_debate_monologues_parsed.tsv`. A copy named `dnc_debate_monologues_for_MLM.tsv` is made in order to preserve the naming convention. "
   ]
  },
  {
   "cell_type": "code",
   "execution_count": 49,
   "metadata": {},
   "outputs": [],
   "source": [
    "_df = pd.read_csv('processed/dnc_debate_dialogues.tsv', sep = '\\t')\n",
    "df = _df.sample(n = 155)\n",
    "df.to_csv('processed/dnc_debate_dialogues_for_MLM.tsv', sep = '\\t', index=False)                    "
   ]
  },
  {
   "cell_type": "markdown",
   "metadata": {},
   "source": [
    "## Process TSV files for NSP"
   ]
  },
  {
   "cell_type": "code",
   "execution_count": 45,
   "metadata": {},
   "outputs": [
    {
     "name": "stdout",
     "output_type": "stream",
     "text": [
      "     Topic                                               Text\n",
      "0  Economy  All right. So with that business out of the wa...\n",
      "1  Economy                        Thank you. Good to be here.\n",
      "2     Guns  OK, thank you, Senator Warren. You didn’t addr...\n",
      "3     Guns  What I think we need to do is we need to treat...\n",
      "4     Guns  Thank you, Senator. Senator Booker, you have a...\n"
     ]
    }
   ],
   "source": [
    "# import dataset\n",
    "\n",
    "FILES = {\n",
    "    \"Monologue\": \"processed/dnc_debate_monologues.tsv\",\n",
    "    \"Dialogue\": \"processed/dnc_debate_dialogues.tsv\",\n",
    "}\n",
    "\n",
    "# preview first 5 records\n",
    "\n",
    "df = pd.read_csv(FILES[\"Dialogue\"], sep = '\\t', usecols = ['Topic','Text'])\n",
    "print(df.head())"
   ]
  },
  {
   "cell_type": "code",
   "execution_count": 44,
   "metadata": {},
   "outputs": [
    {
     "name": "stdout",
     "output_type": "stream",
     "text": [
      "     Topic                                               Text\n",
      "0  Economy                                         All right.\n",
      "1  Economy  So with that business out of the way, we want ...\n",
      "2  Economy  And we’ll start this evening with Senator Eliz...\n",
      "3  Economy                                         Thank you.\n",
      "4  Economy                                   Good to be here.\n"
     ]
    }
   ],
   "source": [
    "topics = df['Topic'].unique().tolist()\n",
    "text = df[0:0]\n",
    "# text = pd.DataFrame(columns=['Text'])\n",
    "\n",
    "for topic in topics:\n",
    "    tp = df.loc[df['Topic'] == topic]\n",
    "    for index, row in tp.iterrows():\n",
    "        sentences = re.split(r\"(?<!\\w\\.\\w.)(?<![A-Z][a-z]\\.)(?<=\\.|\\?|!)\\s\", row['Text'])\n",
    "        for i in range(len(sentences)):\n",
    "            _row = [topic, sentences[i]]\n",
    "            _series = pd.Series(_row, index = df.columns)\n",
    "            text = text.append(_series, ignore_index=True)\n",
    "            \n",
    "    _series = pd.Series([np.nan, np.nan], index = df.columns)\n",
    "    text = text.append(_series, ignore_index=True)\n",
    "    \n",
    "print(text.head())\n",
    "\n",
    "# text.to_csv('processed/dnc_debate_dialogues_for_NSP.tsv', sep = '\\t', index=False)\n",
    "\n",
    "# file = 'processed/dnc_debate_dialogues_for_NSP.tsv'\n",
    "\n",
    "f = open(file, 'r')\n",
    "text = f.read()\n",
    "f.close()\n",
    "text = text.replace(\"\\\"\\\"\",\"\")\n",
    "f = open(file, 'w')\n",
    "f.write(text)\n",
    "f.close()"
   ]
  },
  {
   "cell_type": "code",
   "execution_count": 57,
   "metadata": {},
   "outputs": [
    {
     "name": "stdout",
     "output_type": "stream",
     "text": [
      "['Economy', 'Guns', 'Mitch McConnell', 'Climate Change', 'Biggest Geopolitical Threat', 'Impeachment', 'Buttigieg on why he doesn’t support free college', 'Candidates weigh in on healthcare', 'Candidates on how they would address undocumented immigrants', 'Sen. Harris dramatically confronts Biden on his civil rights record', 'Candidates on what their first issue would be if elected', \"Klobuchar's rivals programs\", 'Top tax rate', 'breaking up of tech companies', 'Gender Pay gap', 'Income Inequality', 'Manufacturing Jobs', 'Healthcare', 'Abortion', 'Opiod Crisis', 'Undocumented Immigrants', 'Iran Nuclear Deal', 'Supreme Court Nominees', 'LGBTQ', 'Foreign Policy', 'Opening statements', 'Biden addresses income inequality', 'Candidates are asked about ‘socialism’', 'Rep. Swalwell and Biden on generational change, and Yang explains his economic plan', 'Sen. Harris’ ‘food fight’ moment', 'Yang and Mayor Buttigieg on concerns about China', 'Mayor Buttigieg speaks out on civil rights and the shooting in his hometown', 'Candidates comment on diversity', 'Candidates on bridging the partisan divide and working with Mitch McConnell', 'Candidates on abortion rights', 'Candidates on climate', 'On whether ‘partisan gridlock’ would disappear', 'Candidates on gun control', 'Candidates on the first relationship they would reset as president', 'Biden on why Americans should trust his foreign policy judgment after he expressed regret for supporting the Iraq war']\n"
     ]
    }
   ],
   "source": [
    "topics = df['Topic'].unique().tolist()\n",
    "print(topics)"
   ]
  },
  {
   "cell_type": "markdown",
   "metadata": {},
   "source": [
    "At this point I take half of the topics from the dialogue dataset and combine them with the other half of the topics from the monologue dataset. This makes up the training dataset. The inverse topics are then selection from the inverse datasets and this makes up the validation dataset. Each topic constitutes a 'document' in the setting of next sentence prediction. The resulting datasets are named `dnc_debate_train_for_NSP.tsv` and `dnc_debate_val_for_NSP.tsv`."
   ]
  },
  {
   "cell_type": "markdown",
   "metadata": {},
   "source": [
    "## Process TSV files for SeqClassif"
   ]
  },
  {
   "cell_type": "markdown",
   "metadata": {},
   "source": [
    "I take half of the topics from the dialogue dataset and combine them with the other half of the topics from the monologue dataset. This makes up the training dataset. The inverse topics are then selection from the inverse datasets and this makes up the validation dataset. Utterances/Sentences from the monologue dataset are given the label 1 and those from the dialogue dataset are given the label 0. Extra examples are deleted in order to maintain balanced training and validation datasets. The resulting datasets are named `dnc_debate_train_for_SC.tsv` and `dnc_debate_val_for_SC.tsv`."
   ]
  },
  {
   "cell_type": "code",
   "execution_count": 63,
   "metadata": {},
   "outputs": [
    {
     "name": "stdout",
     "output_type": "stream",
     "text": [
      "   label                                               text\n",
      "0      1                                         All right.\n",
      "1      1  So with that business out of the way, we want ...\n",
      "2      1  And we’ll start this evening with Senator Eliz...\n",
      "3      1                                         Thank you.\n",
      "4      1                                   Good to be here.\n",
      "label     int64\n",
      "text     object\n",
      "dtype: object\n"
     ]
    }
   ],
   "source": [
    "# import dataset\n",
    "\n",
    "FILES = {\n",
    "    \"train\": \"processed/dnc_debate_train_for_SC.tsv\",\n",
    "    \"val\": \"processed/dnc_debate_val_for_SC.tsv\",\n",
    "}\n",
    "\n",
    "# preview first 5 records\n",
    "\n",
    "df = pd.read_csv(FILES[\"train\"], sep = '\\t', usecols = ['label','text'])\n",
    "df['text'] = df['text'].astype('str') \n",
    "print(df.head())\n",
    "print(df.dtypes)"
   ]
  }
 ],
 "metadata": {
  "kernelspec": {
   "display_name": "Python 3",
   "language": "python",
   "name": "python3"
  },
  "language_info": {
   "codemirror_mode": {
    "name": "ipython",
    "version": 3
   },
   "file_extension": ".py",
   "mimetype": "text/x-python",
   "name": "python",
   "nbconvert_exporter": "python",
   "pygments_lexer": "ipython3",
   "version": "3.8.5"
  }
 },
 "nbformat": 4,
 "nbformat_minor": 4
}
