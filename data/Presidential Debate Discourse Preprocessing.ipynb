{
 "cells": [
  {
   "cell_type": "code",
   "execution_count": 1,
   "metadata": {},
   "outputs": [],
   "source": [
    "from tqdm import tqdm\n",
    "import re\n",
    "\n",
    "import pandas as pd \n",
    "import matplotlib.pyplot as plt\n",
    "import numpy as np\n",
    "\n",
    "from flair.data import Sentence\n",
    "from flair.models import SequenceTagger"
   ]
  },
  {
   "cell_type": "code",
   "execution_count": 2,
   "metadata": {},
   "outputs": [],
   "source": [
    "# supress matplotlib warning\n",
    "\n",
    "import warnings\n",
    "warnings.filterwarnings('ignore')"
   ]
  },
  {
   "cell_type": "markdown",
   "metadata": {},
   "source": [
    "## Data Loading"
   ]
  },
  {
   "cell_type": "code",
   "execution_count": 6,
   "metadata": {},
   "outputs": [
    {
     "name": "stdout",
     "output_type": "stream",
     "text": [
      "   RowID                Topic Speaker  \\\n",
      "0      1  TOPIC: Introduction  WELKER   \n",
      "1      2      TOPIC: COVID-19  WELKER   \n",
      "2      3      TOPIC: COVID-19   TRUMP   \n",
      "3      4      TOPIC: COVID-19  WELKER   \n",
      "4      5      TOPIC: COVID-19   BIDEN   \n",
      "\n",
      "                                           Discourse  \n",
      "0   A very good evening to both of you. This deba...  \n",
      "1   And we will begin with the fight against the ...  \n",
      "2   So, as you know, more 2.2 million people, mod...  \n",
      "3   OK, former Vice President Biden, to you, how ...  \n",
      "4   220,000 Americans dead. If you hear nothing e...  \n",
      "\n",
      " distinct speakers:  ['WELKER' 'TRUMP' 'BIDEN']\n",
      "\n",
      " debate topics:\n",
      "\n",
      " Introduction\n",
      "\n",
      " COVID-19\n",
      "\n",
      " National Security\n",
      "\n",
      " Economy\n",
      "\n",
      " Immigration\n",
      "\n",
      " Race in America\n",
      "\n",
      " Climate Change\n",
      "\n",
      " Final Question\n"
     ]
    }
   ],
   "source": [
    "# import dataset\n",
    "\n",
    "FILES = {\n",
    "    \"DNC\": \"raw/2020 Debate Transcripts.csv\",\n",
    "    \"Presidential\": \"raw/Presidential_debate_USA_final_October_2020.csv\",\n",
    "    \"Vice Presidential\": \"raw/VP_debate_2020.csv\",\n",
    "}\n",
    "\n",
    "# preview first 5 records\n",
    "\n",
    "df = pd.read_csv(FILES[\"Presidential\"])\n",
    "df = df.replace('\\n',' ', regex=True)\n",
    "df.columns = ['RowID', 'Topic', 'Speaker', 'Discourse']\n",
    "print(df.head())\n",
    "\n",
    "# explore speakers     \n",
    "\n",
    "speakers = df['Speaker'].unique()\n",
    "print('\\n distinct speakers: ', speakers)\n",
    "\n",
    "# clean 'Topics'\n",
    "\n",
    "df['Topic'] = [text[7:].strip() for text in df['Topic']]\n",
    "\n",
    "# explore debate topics\n",
    "\n",
    "topics = df['Topic'].unique()\n",
    "\n",
    "print('\\n debate topics:')\n",
    "for topic in topics:\n",
    "    print('\\n', topic)"
   ]
  },
  {
   "cell_type": "code",
   "execution_count": 7,
   "metadata": {},
   "outputs": [
    {
     "data": {
      "image/png": "[encoded data removed]",
      "text/plain": [
       "<Figure size 360x1440 with 1 Axes>"
      ]
     },
     "metadata": {
      "needs_background": "light"
     },
     "output_type": "display_data"
    }
   ],
   "source": [
    "# topics by utterance frequency\n",
    "\n",
    "speaker_topic = df[['Speaker','Topic']]\n",
    "speaker_topic.groupby(['Topic']).count().sort_values(by='Speaker').plot(kind='barh', figsize=(5,20));"
   ]
  },
  {
   "cell_type": "code",
   "execution_count": 8,
   "metadata": {},
   "outputs": [
    {
     "name": "stdout",
     "output_type": "stream",
     "text": [
      "Missing 'Topic' values? \n",
      "\n",
      " Empty DataFrame\n",
      "Columns: [RowID, Topic, Speaker, Discourse]\n",
      "Index: [] \n",
      "\n",
      "\n",
      "Missing 'Speaker' values? \n",
      "\n",
      " Empty DataFrame\n",
      "Columns: [RowID, Topic, Speaker, Discourse]\n",
      "Index: [] \n",
      "\n",
      "\n",
      "Missing 'Discourse' values? \n",
      "\n",
      " Empty DataFrame\n",
      "Columns: [RowID, Topic, Speaker, Discourse]\n",
      "Index: []\n"
     ]
    }
   ],
   "source": [
    "# check missing values\n",
    "\n",
    "print(\"Missing 'Topic' values? \\n\\n\", df.loc[df.Topic.isnull()], \"\\n\\n\")\n",
    "print(\"Missing 'Speaker' values? \\n\\n\", df.loc[df.Speaker.isnull()], \"\\n\\n\")\n",
    "print(\"Missing 'Discourse' values? \\n\\n\", df.loc[df.Discourse.isnull()])"
   ]
  },
  {
   "cell_type": "markdown",
   "metadata": {},
   "source": [
    "## Parsing of discourse into monlogues and dialogues"
   ]
  },
  {
   "cell_type": "code",
   "execution_count": 27,
   "metadata": {},
   "outputs": [],
   "source": [
    "# parse monologues and dialogues\n",
    "\n",
    "monologues = df[0:0]\n",
    "dialogues = df[0:0]\n",
    "\n",
    "topics = np.delete(df['Topic'].unique(), [0, 7]) # excluding 'Introduction'\n",
    "\n",
    "for topic in topics:\n",
    "    # print(df.loc[df['Topic'] == topic])\n",
    "    tp = df.loc[df['Topic'] == topic]\n",
    "    m = tp.iloc[1]\n",
    "    monologues = monologues.append(m)\n",
    "    \n",
    "    # determine last record; use idx_last and last to grab remaining discourse on the topic; this constitutes dialogue\n",
    "    # print(tp.iloc[[-1]].index[0])\n",
    "    idx_last = tp.iloc[[-1]].index[0]\n",
    "    dialogues = dialogues.append(tp.iloc[3:idx_last,:])   \n",
    "\n",
    "# manual parsing of 'COVID-19'\n",
    "row = dialogues.loc[df['RowID'].isin([5, 54])]\n",
    "monologues = monologues.append(row, ignore_index=True)\n",
    "dialogues.drop(row.index, inplace=True)\n",
    "\n",
    "# manual parsing of 'National Security'\n",
    "row = dialogues.loc[df['RowID'].isin([98, 127])]\n",
    "monologues = monologues.append(row, ignore_index=True)\n",
    "dialogues.drop(row.index, inplace=True)\n",
    "\n",
    "# manual parsing of 'Economy'\n",
    "row = dialogues.loc[df['RowID'].isin([148, 190])]\n",
    "monologues = monologues.append(row, ignore_index=True)\n",
    "dialogues.drop(row.index, inplace=True)\n",
    "\n",
    "# manual parsing of 'Climate Change'\n",
    "row = dialogues.loc[df['RowID'].isin([302, 325])]\n",
    "monologues = monologues.append(row, ignore_index=True)\n",
    "dialogues.drop(row.index, inplace=True)\n",
    "\n",
    "# manual parsing of 'Final Question'    \n",
    "cs = df.loc[((df['Topic'] == 'Final Question') & (df['Speaker'].isin(['TRUMP', 'BIDEN'])))]\n",
    "monologues = monologues.append(cs)\n",
    "\n",
    "# sort both dataframes by RowID\n",
    "monologues = monologues.sort_values('RowID')\n",
    "dialogues = dialogues.sort_values('RowID')\n",
    "\n",
    "# remove leading and trailing spaces\n",
    "monologues['Discourse'] = [text.strip() for text in monologues['Discourse']]\n",
    "dialogues['Discourse'] = [text.strip() for text in dialogues['Discourse']]\n",
    "\n",
    "monologues.rename(columns = {'Discourse': 'Text'}, inplace = True)\n",
    "dialogues.rename(columns = {'Discourse': 'Text'}, inplace = True)\n",
    "\n",
    "# print('\\n number of monologues: ', len(monologues))\n",
    "# print('\\n\\n monologues: \\n\\n', monologues)\n",
    "# print('\\n\\n number of dialogues: ', len(dialogues))\n",
    "# print('\\n\\n dialogues: \\n\\n', dialogues)"
   ]
  },
  {
   "cell_type": "markdown",
   "metadata": {},
   "source": [
    "## Determine long monologues that should be manually parsed into halves/thirds"
   ]
  },
  {
   "cell_type": "code",
   "execution_count": 25,
   "metadata": {},
   "outputs": [
    {
     "name": "stdout",
     "output_type": "stream",
     "text": [
      "\n",
      "\n",
      " Monologues to be halved: \n",
      "\n",
      " [54, 127, 190, 325, 352]\n",
      "\n",
      "\n",
      " Monologues to be cut in thirds: \n",
      "\n",
      " [3, 68, 146, 244, 298, 5, 98, 148, 302, 350]\n"
     ]
    }
   ],
   "source": [
    "# count characters in 'text'; if greater than 1024 put into 'thirds'; else put into 'halves'; manually parse duplicates\n",
    "halves = []\n",
    "thirds = []\n",
    "\n",
    "for row in monologues[['RowID', 'Text']].itertuples():\n",
    "    if len(row.Text) > 1024:\n",
    "        thirds.append(row.RowID)\n",
    "    elif 512 < len(row.Text) < 1024:\n",
    "        halves.append(row.RowID)\n",
    "\n",
    "print('\\n\\n Monologues to be halved: \\n\\n', halves)\n",
    "print('\\n\\n Monologues to be cut in thirds: \\n\\n',thirds)"
   ]
  },
  {
   "cell_type": "code",
   "execution_count": 20,
   "metadata": {},
   "outputs": [
    {
     "name": "stdout",
     "output_type": "stream",
     "text": [
      "16\n",
      "321\n"
     ]
    }
   ],
   "source": [
    "m = monologues['Text'].tolist()\n",
    "d = dialogues['Text'].tolist()\n",
    "print(len(m))\n",
    "print(len(d))"
   ]
  },
  {
   "cell_type": "markdown",
   "metadata": {},
   "source": [
    "## Tag utterances for POS using Flair library"
   ]
  },
  {
   "cell_type": "code",
   "execution_count": 21,
   "metadata": {},
   "outputs": [
    {
     "name": "stdout",
     "output_type": "stream",
     "text": [
      "2021-09-19 13:32:26,706 loading file /home/ebenge/.flair/models/en-pos-ontonotes-fast-v0.5.pt\n"
     ]
    },
    {
     "name": "stderr",
     "output_type": "stream",
     "text": [
      "100%|██████████| 321/321 [02:00<00:00,  2.66it/s]"
     ]
    },
    {
     "name": "stdout",
     "output_type": "stream",
     "text": [
      "President <NNP> Trump <NNP> , <,> I <PRP> 'd <MD> like <VB> to <TO> follow <VB> up <RP> with <IN> you <PRP> and <CC> your <PRP$> comments <NNS> . <,> You <PRP> talked <VBD> about <IN> taking <VBG> a <DT> therapeutic <JJ> . <.> I <PRP> assume <VBP> you <PRP> 're <VBP> referencing <VBG> Regeneron <NNP> . <.> You <PRP> also <RB> said <VBD> a <DT> vaccine <NN> will <MD> be <VB> coming <VBG> within <IN> weeks <NNS> . <,> Is <VBZ> that <DT> a <DT> guarantee <NN> ? <.>\n",
      "President Trump, I'd like to follow up with you and your comments. You talked about taking a therapeutic. I assume you're referencing Regeneron. You also said a vaccine will be coming within weeks. Is that a guarantee?\n"
     ]
    },
    {
     "name": "stderr",
     "output_type": "stream",
     "text": [
      "\n"
     ]
    }
   ],
   "source": [
    "# tag utterances\n",
    "\n",
    "tagger = SequenceTagger.load('pos-fast')\n",
    "\n",
    "corpus = d\n",
    "tagged = []\n",
    "\n",
    "for i in tqdm(corpus):\n",
    "  sentence = Sentence(i)\n",
    "  tagger.predict(sentence)\n",
    "  tagged.append(sentence.to_tagged_string())\n",
    "\n",
    "for i in range(1):\n",
    "  print(tagged[i])\n",
    "  print(corpus[i])"
   ]
  },
  {
   "cell_type": "code",
   "execution_count": 22,
   "metadata": {},
   "outputs": [
    {
     "name": "stderr",
     "output_type": "stream",
     "text": [
      "100%|██████████| 321/321 [00:00<00:00, 7002.50it/s]"
     ]
    },
    {
     "name": "stdout",
     "output_type": "stream",
     "text": [
      "NNP Trump NNP , , PRP 'd MD VB TO VB RP IN PRP CC PRP$ comments NNS . , PRP VBD IN VBG DT therpeutic JJ . . I PRP VBP you PRP 're VBP VBG Regeneron NNP . . PRP RB VBD DT NN MD VB VBG IN weeks NNS . , VBZ DT a DT guarantee NN ? .\n",
      "President Trump, I'd like to follow up with you and your comments. You talked about taking a therapeutic. I assume you're referencing Regeneron. You also said a vaccine will be coming within weeks. Is that a guarantee?\n"
     ]
    },
    {
     "name": "stderr",
     "output_type": "stream",
     "text": [
      "\n"
     ]
    }
   ],
   "source": [
    "# extract tags \n",
    "\n",
    "for i in tqdm(range(len(tagged))):\n",
    "  for j in corpus[i].split():\n",
    "    tagged[i] = str(tagged[i]).replace(j,\"\",1)\n",
    "\n",
    "  # remove < > characters\n",
    "  for j in  ['<','>']:\n",
    "    tagged[i] = str(tagged[i]).replace(j,\"\")\n",
    "    # remove redundant spaces\n",
    "    tagged[i] = re.sub(' +', ' ', str(tagged[i]))\n",
    "    tagged[i] = str(tagged[i]).lstrip()\n",
    "\n",
    "for i in range(1):\n",
    "  print(tagged[i])\n",
    "  print(corpus[i])"
   ]
  },
  {
   "cell_type": "code",
   "execution_count": 23,
   "metadata": {},
   "outputs": [
    {
     "name": "stderr",
     "output_type": "stream",
     "text": [
      "100%|██████████| 321/321 [00:00<00:00, 21604.17it/s]\n"
     ]
    }
   ],
   "source": [
    "for i in tqdm(range(len(corpus))):\n",
    "  # remove symbols\n",
    "  # corpus[i] = re.sub('[^a-zA-Z]', ' ', str(corpus[i]))\n",
    "  tagged[i] = re.sub('[^a-zA-Z]', ' ', str(tagged[i]))\n",
    "\n",
    "  ## remove HYPH SYM\n",
    "  tagged[i] = str(tagged[i]).replace('HYPH',\"\")\n",
    "  tagged[i] = str(tagged[i]).replace('SYM',\"\")                    \n",
    "\n",
    "  # remove redundant space\n",
    "  # corpus[i] = re.sub(' +', ' ', str(corpus[i]))\n",
    "  tagged[i] = re.sub(' +', ' ', str(tagged[i]))"
   ]
  },
  {
   "cell_type": "code",
   "execution_count": 24,
   "metadata": {},
   "outputs": [
    {
     "name": "stdout",
     "output_type": "stream",
     "text": [
      "monologue:\n",
      "\n",
      "President Trump, I'd like to follow up with you and your comments. You talked about taking a therapeutic. I assume you're referencing Regeneron. You also said a vaccine will be coming within weeks. Is that a guarantee?\n",
      "\n",
      "tagged:\n",
      "\n",
      "NNP Trump NNP PRP d MD VB TO VB RP IN PRP CC PRP comments NNS PRP VBD IN VBG DT therpeutic JJ I PRP VBP you PRP re VBP VBG Regeneron NNP PRP RB VBD DT NN MD VB VBG IN weeks NNS VBZ DT a DT guarantee NN \n",
      "\n",
      "------------------------------------------------------------------------------------------\n",
      "\n",
      "monologue:\n",
      "\n",
      "It is not a guarantee but it will be by the end of the year, but I think it has a good chance. One or two companies, I think, within a matter of weeks, and it will be distributed very quickly.\n",
      "\n",
      "tagged:\n",
      "\n",
      "PRP VBZ RB DT NN CC PRP MD VB N DT NN N DT yer NN CC I PRP VBP PRP VBZ DT JJ chance NN CD CC CD companies NNS I PRP think VBP IN a DT NN IN weeks NNS CC PRP MD VB VBN RB quickly RB \n",
      "\n",
      "------------------------------------------------------------------------------------------\n",
      "\n",
      "monologue:\n",
      "\n",
      "Can you tell us what companies?\n",
      "\n",
      "tagged:\n",
      "\n",
      "MD PRP VB PRP WDT companies NNS \n",
      "\n",
      "------------------------------------------------------------------------------------------\n",
      "\n",
      "monologue:\n",
      "\n",
      "Johnson and Johnson is doing very well. Moderna is doing very well. Pfizer is doing very well, and we have numerous others. And then we also have others that we're working on very closely with other countries, in particular Europe.\n",
      "\n",
      "tagged:\n",
      "\n",
      "NNP CC NNP VBZ VBG RB ll RB NNP VBZ VBG RB ll RB NNP VBZ VBG RB well RB CC we PRP VBP JJ NNS CC RB we PRP RB VBP s NNS WDT we PRP re VBP VBG IN RB RB IN other JJ countries NNS IN JJ Europe NNP \n",
      "\n",
      "------------------------------------------------------------------------------------------\n",
      "\n",
      "monologue:\n",
      "\n",
      "Let me follow up with you, and because this is new information — You have said a vaccine is coming soon, within weeks now. Your own officials say it could take well into 2021 at the earliest for enough Americans to get vaccinated, and even then they say the country will be wearing masks and distancing into 2022. Is your timeline realistic?\n",
      "\n",
      "tagged:\n",
      "\n",
      "VB PRP VB RP IN you PRP CC IN DT VBZ JJ NN PRP VBP VBN DT NN VBZ VBG soon RB IN NNS now RB PRP JJ NNS VBP PRP MD VB RB IN CD IN DT JJS IN JJ NNPS TO VB vaccinated VBN CC RB RB PRP VBP DT NN MD VB VBG NNS CC VBG IN CD VBZ PRP NN realistic JJ \n",
      "\n",
      "------------------------------------------------------------------------------------------\n",
      "\n",
      "monologue:\n",
      "\n",
      "No, I think my timeline is going to be more accurate. I don't know that they're counting on the military the way I do, but we have our generals lined up, one in particular, that's the head of logistics. And this is a very easy distribution for him. He's ready to go as soon as we have the vaccine, and we expect to have 100 million vials as soon as we have the vaccine, he's ready to go.\n",
      "\n",
      "tagged:\n",
      "\n",
      "No UH PRP VBP PRP NN VBZ VBG TO VB RBR ccurate JJ PRP do VBP n t RB VB N y PRP re VBP VBG IN DT NN DT NN I PRP do VBP CC PRP VBP PRP NNS VBN up RP CD IN particular JJ that DT s VBZ DT NN IN logtics NNS CC DT is VBZ a DT RB JJ NN IN him PRP He PRP s VBZ JJ TO VB RB RB IN PRP VBP DT vaccine NN CC PRP VBP TO VB CD CD NNS RB RB IN PRP VBP the DT vaccine NN he PRP s VBZ JJ TO go VB \n",
      "\n",
      "------------------------------------------------------------------------------------------\n",
      "\n",
      "monologue:\n",
      "\n",
      "Vice President Biden, your reaction? Just 40% of Americans say they would definitely agree to take a coronavirus vaccine if it was approved by the government. What steps would you take to give Americans confidence in a vaccine if it were approved?\n",
      "\n",
      "tagged:\n",
      "\n",
      "NNP NNP Biden NNP PRP rection NN RB CD NN IN NNPS VBP PRP MD RB VB TO VB DT NN NN IN PRP VBD VBN IN DT government NN WDT NNS MD PRP VB TO VB NNPS NN IN a DT NN IN PRP VBD approved VBN \n",
      "\n",
      "------------------------------------------------------------------------------------------\n",
      "\n",
      "monologue:\n",
      "\n",
      "Make sure it's totally transparent. Have the scientific world see, know, look at it, go through all the processes. And by the way, this is the same fellow who told you this is going to end by Easter last time. This the same fellow who told you that, don't worry, we're going to end this by the summer. We're about to go into a dark winter, a dark winter, and he has no clear plan and there's no prospect that there's going to be a vaccine available for the majority of the American people before the middle of next year.\n",
      "\n",
      "tagged:\n",
      "\n",
      "VB JJ it PRP s VBZ RB trnsprent JJ VB DT JJ NN see VB kw VBP VB IN it PRP VB IN PDT DT processes NNS CC IN DT wy NN DT VBZ DT JJ NN WP VBD PRP DT VBZ VBG TO VB IN NNP JJ time NN DT DT JJ NN WP VBD PRP IN do VB n t RB worry VB we PRP re VBP VBG TO VB DT IN DT summer NN We PRP re VBP JJ TO VB IN a DT JJ winter NN a DT JJ winter NN CC PRP VBZ DT JJ NN CC re EX s VBZ no DT NN that IN re EX s VBZ VBG TO VB a DT NN JJ IN DT NN IN the DT JJ NNS IN the DT NN IN JJ year NN \n",
      "\n",
      "------------------------------------------------------------------------------------------\n",
      "\n",
      "monologue:\n",
      "\n",
      "President Trump, your reaction? He says you have no plan.\n",
      "\n",
      "tagged:\n",
      "\n",
      "NNP Trump NNP PRP reaction NN PRP VBZ PRP VBP DT plan NN \n",
      "\n",
      "------------------------------------------------------------------------------------------\n",
      "\n",
      "monologue:\n",
      "\n",
      "I don’t think it’s going to be a dark winter at all. We're opening up our country. We've learned and studied and understand the disease, which we didn't know at the beginning. When I closed and banned China from coming in heavily infected, and then ultimately Europe, but China was in January — months later he was saying I was xenophobic, I did it too soon. Now he's saying, ‘Oh, I should have, I should have, you know, moved quicker.’ But he didn't move quicker; he was months behind me, many months behind me. And frankly, he ran the H1N1 swine flu, and it was a total disaster. Far less lethal. But it was a total disaster. Had that had this kind of numbers, 700,000 people would be dead right now, but it was a far less lethal disease. Look, his own person who ran that for him who, as you know was his chief of staff, said ‘It was catastrophic, it was horrible, we didn't know what we were doing.’ Now he comes up and he tells us how to do this. Also everything that he said about the way — every single move that he said we should make — that's what we've done, we've done all of it, but he was way behind us.\n",
      "\n",
      "tagged:\n",
      "\n",
      "PRP VBP n t RB VB PRP s VBZ VBG TO VB DT JJ NN RB ll RB We PRP re VBP VBG RP PRP country NN We PRP ve VBP VBN CC VBN CC VB DT disese NN WDT PRP VBD n t RB VB N DT gng NN WRB PRP VBD CC VBD NNP N VBG in RB RB infected VBN CC RB RB Europe NNP CC NNP VBD in N NNP CD NNS RB PRP VBD VBG PRP VBD xenophobic JJ I PRP did VBD PRP RB soon RB RB PRP s VBZ sying VBG Oh UH I PRP MD have VB I PRP MD have VB PRP VBP VBD NN CC PRP did VBD n t RB VB quicker RBR PRP VBD NNS IN me PRP JJ NNS IN me PRP CC fkly RB PRP VBD DT NNP NN flu NN CC PRP VBD a DT JJ dister NN RB RBR JJ CC PRP VBD a DT JJ disaster NN VBD DT VBN DT NN IN numbers NNS CD NNS MD be VB JJ RB now RB CC PRP VBD a DT RB RBR lethal JJ disease NN Look VB PRP JJ NN WP ran VBD DT IN PRP who WP as IN PRP VBP VBD PRP NN IN staff NN VBD It PRP VBD catastrophic JJ it PRP VBD horrible JJ PRP did VBD n t RB know VB WP PRP VBD VBG RB PRP VBZ RP CC PRP VBZ PRP WRB TO do VB this DT RB NN WDT PRP VBD IN DT NN DT JJ NN WDT PRP VBD PRP MD VB that DT s VBZ WP we PRP ve VBP VBN we PRP ve VBP done VBN DT IN it PRP CC he PRP VBD NN IN us PRP \n",
      "\n",
      "------------------------------------------------------------------------------------------\n",
      "\n"
     ]
    }
   ],
   "source": [
    "# check tags \n",
    "\n",
    "for i in range(10):\n",
    "  print('monologue:\\n\\n'+corpus[i]+'\\n') \n",
    "  print('tagged:\\n\\n'+tagged[i]+'\\n')\n",
    "  print('-'*90+'\\n')"
   ]
  },
  {
   "cell_type": "code",
   "execution_count": 62,
   "metadata": {
    "scrolled": true
   },
   "outputs": [
    {
     "name": "stderr",
     "output_type": "stream",
     "text": [
      "100%|██████████| 329/329 [00:00<00:00, 160326.02it/s]\n"
     ]
    },
    {
     "name": "stdout",
     "output_type": "stream",
     "text": [
      "Counter({'PRP': 2162, 'NN': 1605, 'IN': 1309, 'DT': 1301, 'VB': 1028, 'RB': 958, 'VBP': 807, 'NNP': 706, 'NNS': 666, 'JJ': 661, 'VBD': 583, 'VBZ': 521, 'CC': 487, 'VBG': 408, 'TO': 392, 'CD': 279, 'VBN': 261, 'I': 246, 'MD': 215, 'N': 179, 'WP': 166, 'RP': 141, 'WRB': 132, 'WDT': 79, 'UH': 71, 'JJR': 57, 'EX': 35, 'NNPS': 28, 'PDT': 27, 'JJS': 24, 'RBR': 17, 'POS': 15, 'OK': 13})\n"
     ]
    },
    {
     "data": {
      "image/png": "[encoded data removed]",
      "text/plain": [
       "<Figure size 432x288 with 1 Axes>"
      ]
     },
     "metadata": {
      "needs_background": "light"
     },
     "output_type": "display_data"
    }
   ],
   "source": [
    "from collections import Counter\n",
    "\n",
    "# unpack tagged\n",
    "\n",
    "pos = []\n",
    "\n",
    "for i in tqdm(range(len(tagged))):\n",
    "    pos.extend(tagged[i].split())\n",
    "\n",
    "c = Counter(pos)\n",
    "count = Counter({k: c for k, c in c.items() if k.isupper() if c > 8})\n",
    "\n",
    "print(count)\n",
    "\n",
    "tags = pd.DataFrame().from_dict(count, orient='index')\n",
    "tags.columns = ['pos']\n",
    "tags.sort_values(by='pos', ascending=False).plot(kind='bar')\n",
    "plt.show()\n",
    "\n",
    "# NN - Noun, singular or mass, PRP - Personal pronoun, DT - Determiner, \n",
    "# IN - Preposition or subordinating conjunction, VB - Verb, base form, VBP - Verb, non-3rd person singular present, \n",
    "# RB - Adverb, JJ - Adjective, NNS - Noun, plural, NNP - Proper noun, singular, CC - Coordinating conjunction, \n",
    "# VBZ - Verb, 3rd person singular present, TO - to, VBG - Verb, gerund or present participle, \n",
    "# VBD - Verb, past tense, VBN - Verb, past participle, MD - Modal, CD - Cardinal number, WP - Wh-pronoun, \n",
    "# WDT - Wh-determiner, WRB - Wh-adverb, RP - Particle, UH - Interjection, JJR - Adjective, comparative, \n",
    "# JJS - Adjective, superlative, NNPS - Proper noun, plural, EX - Existential there, RBR Adverb, comparative, \n",
    "# POS - Possessive ending, RRB - ?, FW - Foreign word, RBS - Adverb, superlative, PDT - Predeterminer\n",
    "# LRB - ?, NFP - Superfluous punctuation"
   ]
  },
  {
   "cell_type": "markdown",
   "metadata": {},
   "source": [
    "## Write out monologues and dialogues to TSV files"
   ]
  },
  {
   "cell_type": "code",
   "execution_count": 28,
   "metadata": {},
   "outputs": [],
   "source": [
    "mono_output = monologues[['RowID', 'Topic', 'Speaker','Text']]\n",
    "dia_output = dialogues[['RowID', 'Topic', 'Speaker','Text']]\n",
    "\n",
    "mono_output.to_csv('processed/presidential_debate_monologues.tsv', sep = '\\t', index=False)\n",
    "dia_output.to_csv('processed/presidential_debate_dialogues.tsv', sep = '\\t', index=False)"
   ]
  },
  {
   "cell_type": "markdown",
   "metadata": {},
   "source": [
    "## Process TSV files for MLM"
   ]
  },
  {
   "cell_type": "markdown",
   "metadata": {},
   "source": [
    "The manually parsed monologue dataset is named `presidential_debate_monologues_parsed.tsv`. A copy named `presidential_debate_monologues_for_MLM.tsv` is made in order to preserve the naming convention. "
   ]
  },
  {
   "cell_type": "code",
   "execution_count": 31,
   "metadata": {},
   "outputs": [],
   "source": [
    "_df = pd.read_csv('processed/presidential_debate_dialogues.tsv', sep = '\\t')\n",
    "df = _df.sample(n = 41)\n",
    "df.to_csv('processed/presidential_debate_dialogues_for_MLM.tsv', sep = '\\t', index=False)                    "
   ]
  },
  {
   "cell_type": "markdown",
   "metadata": {},
   "source": [
    "## Process TSV files for NSP"
   ]
  },
  {
   "cell_type": "code",
   "execution_count": 36,
   "metadata": {},
   "outputs": [
    {
     "name": "stdout",
     "output_type": "stream",
     "text": [
      "      Topic                                               Text\n",
      "0  COVID-19  So, as you know, more 2.2 million people, mode...\n",
      "1  COVID-19  And there were some spikes and surges in other...\n",
      "2  COVID-19  And now they say I'm immune. Whether it's four...\n",
      "3  COVID-19  220,000 Americans dead. If you hear nothing el...\n",
      "4  COVID-19  220,000 Americans dead. If you hear nothing el...\n"
     ]
    }
   ],
   "source": [
    "# import dataset\n",
    "\n",
    "FILES = {\n",
    "    \"Monologue\": \"processed/presidential_debate_monologues.tsv\",\n",
    "    \"Dialogue\": \"processed/presidential_debate_dialogues.tsv\",\n",
    "}\n",
    "\n",
    "# preview first 5 records\n",
    "\n",
    "df = pd.read_csv(FILES[\"Monologue\"], sep = '\\t', usecols = ['Topic','Text'])\n",
    "print(df.head())"
   ]
  },
  {
   "cell_type": "code",
   "execution_count": 37,
   "metadata": {},
   "outputs": [
    {
     "name": "stdout",
     "output_type": "stream",
     "text": [
      "      Topic                                               Text\n",
      "0  COVID-19  So, as you know, more 2.2 million people, mode...\n",
      "1  COVID-19  We closed up the greatest economy in the world...\n",
      "2  COVID-19                         It's a worldwide pandemic.\n",
      "3  COVID-19                           It’s all over the world.\n",
      "4  COVID-19  You see the spikes in Europe and many other pl...\n"
     ]
    }
   ],
   "source": [
    "topics = df['Topic'].unique().tolist()\n",
    "text = df[0:0]\n",
    "text_output = []\n",
    "# text = pd.DataFrame(columns=['Text'])\n",
    "\n",
    "for topic in topics:\n",
    "    tp = df.loc[df['Topic'] == topic]\n",
    "    for index, row in tp.iterrows():\n",
    "        sentences = re.split(r\"(?<!\\w\\.\\w.)(?<![A-Z][a-z]\\.)(?<=\\.|\\?|!)\\s\", row['Text'])\n",
    "        for i in range(len(sentences)):\n",
    "            _row = [topic, sentences[i]]\n",
    "            _series = pd.Series(_row, index = df.columns)\n",
    "            text = text.append(_series, ignore_index=True)\n",
    "            \n",
    "    _series = pd.Series([np.nan, np.nan], index = df.columns)\n",
    "    text = text.append(_series, ignore_index=True)\n",
    "    \n",
    "print(text.head())\n",
    "\n",
    "text.to_csv('processed/presidential_debate_monologues_for_NSP.tsv', sep = '\\t', index=False)\n",
    "\n",
    "file = 'processed/presidential_debate_monologues_for_NSP.tsv'\n",
    "\n",
    "f = open(file, 'r')\n",
    "text = f.read()\n",
    "f.close()\n",
    "text = text.replace(\"\\\"\\\"\",\"\")\n",
    "f = open(file, 'w')\n",
    "f.write(text)\n",
    "f.close()"
   ]
  },
  {
   "cell_type": "code",
   "execution_count": 38,
   "metadata": {},
   "outputs": [
    {
     "name": "stdout",
     "output_type": "stream",
     "text": [
      "['COVID-19', 'National Security', 'Economy', 'Immigration', 'Race in America', 'Climate Change', 'Final Question']\n"
     ]
    }
   ],
   "source": [
    "topics = df['Topic'].unique().tolist()\n",
    "print(topics)"
   ]
  },
  {
   "cell_type": "markdown",
   "metadata": {},
   "source": [
    "At this point I take half of the topics from the dialogue dataset and combine them with the other half of the topics from the monologue dataset. This makes up the training dataset. The inverse topics are then selection from the inverse datasets and this makes up the validation dataset. Each topic constitutes a 'document' in the setting of next sentence prediction. The resulting datasets are named `presidential_debate_train_for_NSP.tsv` and `presidential_debate_val_for_NSP.tsv`."
   ]
  },
  {
   "cell_type": "markdown",
   "metadata": {},
   "source": [
    "## Process TSV files for SeqClassif"
   ]
  },
  {
   "cell_type": "markdown",
   "metadata": {},
   "source": [
    "I take half of the topics from the dialogue dataset and combine them with the other half of the topics from the monologue dataset. This makes up the training dataset. The inverse topics are then selection from the inverse datasets and this makes up the validation dataset. Utterances/Sentences from the monologue dataset are given the label 0 and those from the dialogue dataset are given the label 1. from Extra examples are deleted in order to maintain balanced training and validation datasets. The resulting datasets are named `presidential_debate_train_for_SC.tsv` and `presidential_debate_val_for_SC.tsv`."
   ]
  },
  {
   "cell_type": "code",
   "execution_count": 3,
   "metadata": {},
   "outputs": [
    {
     "name": "stdout",
     "output_type": "stream",
     "text": [
      "      Topic                                               Text\n",
      "0  COVID-19  220,000 Americans dead. If you hear nothing el...\n",
      "1  COVID-19  President Trump, I'd like to follow up with yo...\n",
      "2  COVID-19  It is not a guarantee but it will be by the en...\n",
      "3  COVID-19                    Can you tell us what companies?\n",
      "4  COVID-19  Johnson and Johnson is doing very well. Modern...\n"
     ]
    }
   ],
   "source": [
    "# import dataset\n",
    "\n",
    "FILES = {\n",
    "    \"Monologue\": \"processed/presidential_debate_monologues.tsv\",\n",
    "    \"Dialogue\": \"processed/presidential_debate_dialogues.tsv\",\n",
    "}\n",
    "\n",
    "# preview first 5 records\n",
    "\n",
    "df = pd.read_csv(FILES[\"Dialogue\"], sep = '\\t', usecols = ['Topic','Text'])\n",
    "print(df.head())"
   ]
  }
 ],
 "metadata": {
  "kernelspec": {
   "display_name": "Python 3",
   "language": "python",
   "name": "python3"
  },
  "language_info": {
   "codemirror_mode": {
    "name": "ipython",
    "version": 3
   },
   "file_extension": ".py",
   "mimetype": "text/x-python",
   "name": "python",
   "nbconvert_exporter": "python",
   "pygments_lexer": "ipython3",
   "version": "3.8.5"
  }
 },
 "nbformat": 4,
 "nbformat_minor": 4
}
